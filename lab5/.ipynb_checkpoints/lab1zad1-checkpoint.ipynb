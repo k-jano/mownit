{
 "cells": [
  {
   "cell_type": "code",
   "execution_count": 16,
   "metadata": {},
   "outputs": [
    {
     "data": {
      "text/plain": [
       "generate_points (generic function with 1 method)"
      ]
     },
     "execution_count": 16,
     "metadata": {},
     "output_type": "execute_result"
    }
   ],
   "source": [
    "#Points Count\n",
    "N=100\n",
    "\n",
    "#Ranges\n",
    "ranges=[]\n",
    "\n",
    "#Poinst Array\n",
    "pointsArray = reshape([], 0, 0)\n",
    "\n",
    "function generate_points()\n",
    "    global N\n",
    "    global ranges\n",
    "    global pointsArray = zeros(Int64, N, 2)\n",
    "    push!(ranges, -100)\n",
    "    push!(ranges, 100)\n",
    "    push!(ranges, -100)\n",
    "    push!(ranges, 100)\n",
    "    for i=1:N\n",
    "        pointsArray[i, 1]=typemin(Int64)\n",
    "        pointsArray[i, 2]=typemax(Int64)\n",
    "    end\n",
    "    \n",
    "    for i=1:N\n",
    "        flag=0\n",
    "        tmpFirst = rand(ranges[1]: ranges[2])\n",
    "        tmpSecond = rand(ranges[3] : ranges[4])\n",
    "        for i=1:N\n",
    "            if pointsArray[i, 1]==tmpFirst\n",
    "                if pointsArray[i, 2]==tmpSecond\n",
    "                    flag=1\n",
    "                end\n",
    "            end\n",
    "        end\n",
    "        pointsArray[i, 1]=tmpFirst\n",
    "        pointsArray[i, 2]=tmpSecond\n",
    "    end\n",
    "    println(pointsArray)\n",
    "end"
   ]
  },
  {
   "cell_type": "code",
   "execution_count": 17,
   "metadata": {},
   "outputs": [
    {
     "name": "stdout",
     "output_type": "stream",
     "text": [
      "[37 -100; -79 71; -99 97; 63 -4; -58 -73; 86 -39; -33 42; 79 -95; -9 58; -2 -24; -10 -27; -31 -26; -65 77; 64 -56; -30 -84; 90 17; -30 -69; 38 92; -66 -13; 99 23; -64 -41; 34 76; 64 -64; -68 57; -89 -79; -73 -89; -19 -39; -60 -32; -5 16; 15 -81; 41 88; 75 -34; -48 2; -22 40; 32 85; 53 80; 1 19; 9 58; -55 -92; -46 72; 87 63; 71 -98; -41 89; 89 94; -58 -39; 54 31; 1 61; -59 -13; 56 71; 51 -2; 30 14; -66 3; -45 35; -21 -56; -26 -18; 55 -84; 52 -65; 73 23; 14 4; -15 -56; -86 8; 85 8; -11 83; 10 -64; 46 -85; -34 10; 1 -91; 33 -6; 92 -12; -92 24; -81 6; 9 -61; 72 -22; 87 33; -90 72; 31 2; -69 -9; 68 83; 1 42; -78 -37; -11 49; -77 -24; -1 85; -4 -15; -78 60; 48 78; -35 -28; -30 -58; 82 98; 19 -93; 37 99; -66 42; -85 0; 4 65; 23 -40; -96 5; -11 40; 79 4; 19 -10; 29 64]\n"
     ]
    }
   ],
   "source": [
    "generate_points()"
   ]
  }
 ],
 "metadata": {
  "kernelspec": {
   "display_name": "Julia 1.0.1",
   "language": "julia",
   "name": "julia-1.0"
  },
  "language_info": {
   "file_extension": ".jl",
   "mimetype": "application/julia",
   "name": "julia",
   "version": "1.0.1"
  }
 },
 "nbformat": 4,
 "nbformat_minor": 2
}
