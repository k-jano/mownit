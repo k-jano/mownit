{
 "cells": [
  {
   "cell_type": "code",
   "execution_count": 170,
   "metadata": {},
   "outputs": [
    {
     "data": {
      "text/plain": [
       "gauss (generic function with 1 method)"
      ]
     },
     "execution_count": 170,
     "metadata": {},
     "output_type": "execute_result"
    }
   ],
   "source": [
    "N=0\n",
    "E=0\n",
    "nodesName = []\n",
    "nodesEntrance = []\n",
    "edgesWages = reshape([], 0, 0)\n",
    "graphMatrix = reshape([], 0, 0)\n",
    "helpMatrix = reshape([], 0, 0)\n",
    "toGaussMatrix = reshape([], 0, 0)\n",
    "\n",
    "function checkNode(myStr)\n",
    "    for i=1:N\n",
    "        if nodesName[i]==myStr\n",
    "            return i\n",
    "        end\n",
    "    end\n",
    "    return -1\n",
    "end\n",
    "\n",
    "function openFile(a)\n",
    "    open(\"test.txt\") do f\n",
    "        #parsing number of Nodes\n",
    "        x = readline(f)\n",
    "        global N=parse(Int64, x)\n",
    "        \n",
    "        #parsing Nodes entrance\n",
    "        for i = 1:N\n",
    "            x=readline(f)\n",
    "            tmpA = x[1]\n",
    "            global nodesName\n",
    "            push!(nodesName, tmpA)\n",
    "            tmpB = x[3:end]\n",
    "            tmpBInt = parse(Int64, tmpB)\n",
    "            global nodesEntrance\n",
    "            push!(nodesEntrance, tmpBInt)\n",
    "        end\n",
    "        \n",
    "        #checking Nodes entrance - sum up to 0?\n",
    "        tmpSum=0\n",
    "        for i=1:N\n",
    "            tmpSum+=nodesEntrance[i]\n",
    "        end\n",
    "        \n",
    "        if tmpSum!=0\n",
    "            throw(DomainError(\"Sum of node entrance should sum up to 0\"))\n",
    "        end\n",
    "        \n",
    "        #N already known\n",
    "        global edgesWages=zeros(Int64, N, N)\n",
    "        global graphMatrix=zeros(Int64, N, N)\n",
    "        \n",
    "        #Parsing edges with wages\n",
    "        while !eof(f)\n",
    "            x=readline(f)\n",
    "            tmpNodeFrom = x[1]\n",
    "            tmpNodeTo = x[3]\n",
    "            index1= checkNode(tmpNodeFrom, N)\n",
    "            index2= checkNode(tmpNodeTo, N)\n",
    "            if(index1==-1 || index2 ==-1)\n",
    "                throw(DomainError(\"Wrong name of Node\"))\n",
    "            end\n",
    "\n",
    "            graphMatrix[index1, index2] = 1\n",
    "        end\n",
    "    end\n",
    "end\n",
    "\n",
    "function buildArray()\n",
    "    global helpMatrix\n",
    "    helpMatrix=zeros(Int64, N, N)\n",
    "    tmp=0\n",
    "    for i= 1:N\n",
    "        for j=1:N\n",
    "            if graphMatrix[i, j]==1\n",
    "                tmp+=1\n",
    "                helpMatrix[i, j]=tmp\n",
    "            end\n",
    "        end\n",
    "    end\n",
    "    global E=tmp\n",
    "    global toGaussMatrix\n",
    "    \n",
    "    toGaussMatrix = zeros(Float64, N,E+1)\n",
    "    \n",
    "    for i=1:N\n",
    "        for j=1:N\n",
    "            if graphMatrix[i, j]==1\n",
    "                toGaussMatrix[i, helpMatrix[i,j]]=-1\n",
    "            elseif graphMatrix[j, i]==1\n",
    "                toGaussMatrix[i, helpMatrix[j,i]]=1\n",
    "            end\n",
    "        end\n",
    "        toGaussMatrix[i, E+1]=nodesEntrance[i]\n",
    "    end\n",
    "end\n",
    "\n",
    "function main(fileName)\n",
    "    openFile(fileName)\n",
    "    graphMatrix\n",
    "    nodesEntrance\n",
    "    buildArray()\n",
    "    helpMatrix\n",
    "    toGaussMatrix\n",
    "end\n",
    "\n",
    "function gauss(A, n)\n",
    "    for i = 1:n\n",
    "        for k = i+1:n\n",
    "            c = -A[k,i]/A[i,i]\n",
    "            for j = i:n+1\n",
    "                A[k, j] +=  c * A[i,j]\n",
    "            end\n",
    "        end\n",
    "    end\n",
    "end"
   ]
  },
  {
   "cell_type": "code",
   "execution_count": 103,
   "metadata": {},
   "outputs": [
    {
     "data": {
      "text/plain": [
       "4×5 Array{Float64,2}:\n",
       "  2.0   2.0  -1.0   1.0   7.0\n",
       " -1.0   1.0   2.0   3.0   3.0\n",
       "  3.0  -1.0   4.0  -1.0  31.0\n",
       "  1.0   4.0  -2.0   2.0   2.0"
      ]
     },
     "execution_count": 103,
     "metadata": {},
     "output_type": "execute_result"
    }
   ],
   "source": [
    "n = 4\n",
    "#A = rand(1.0:100.0, n, n+1)\n",
    "A=[2.0 2.0 (-1.0) 1.0 7.0; (-1.0) 1.0 2.0 3.0 3.0; 3.0 (-1.0) 4.0 (-1.0) 31.0; 1.0 4.0 (-2.0) 2.0 2.0]\n",
    "Atemp = copy(A)\n",
    "Acorrect= A[:, 1:4]\n",
    "Bcorrect = A[:, 5]\n",
    "A"
   ]
  },
  {
   "cell_type": "code",
   "execution_count": 148,
   "metadata": {},
   "outputs": [
    {
     "data": {
      "text/plain": [
       "4×5 Array{Float64,2}:\n",
       " 2.0  2.0  -1.0   1.0       7.0    \n",
       " 0.0  2.0   1.5   3.5       6.5    \n",
       " 0.0  0.0   8.5   4.5      33.5    \n",
       " 0.0  0.0   0.0  -1.76471   3.52941"
      ]
     },
     "execution_count": 148,
     "metadata": {},
     "output_type": "execute_result"
    }
   ],
   "source": [
    "gauss(Atemp, n)\n",
    "Atemp"
   ]
  },
  {
   "cell_type": "code",
   "execution_count": 171,
   "metadata": {},
   "outputs": [
    {
     "data": {
      "text/plain": [
       "4×5 Array{Float64,2}:\n",
       " -1.0   0.0   0.0   1.0   15.0\n",
       "  1.0  -1.0   0.0   0.0   30.0\n",
       "  0.0   1.0  -1.0   0.0   40.0\n",
       "  0.0   0.0   1.0  -1.0  -85.0"
      ]
     },
     "execution_count": 171,
     "metadata": {},
     "output_type": "execute_result"
    }
   ],
   "source": [
    "main(\"test.txt\")"
   ]
  },
  {
   "cell_type": "code",
   "execution_count": 150,
   "metadata": {},
   "outputs": [
    {
     "data": {
      "text/plain": [
       "false"
      ]
     },
     "execution_count": 150,
     "metadata": {},
     "output_type": "execute_result"
    }
   ],
   "source": [
    "matrix=[]\n",
    "push!(matrix, 'A')\n",
    "matrix[1]\n",
    "matrix[1]==\"A\""
   ]
  },
  {
   "cell_type": "code",
   "execution_count": null,
   "metadata": {},
   "outputs": [],
   "source": []
  }
 ],
 "metadata": {
  "kernelspec": {
   "display_name": "Julia 1.0.1",
   "language": "julia",
   "name": "julia-1.0"
  },
  "language_info": {
   "file_extension": ".jl",
   "mimetype": "application/julia",
   "name": "julia",
   "version": "1.0.1"
  }
 },
 "nbformat": 4,
 "nbformat_minor": 2
}
