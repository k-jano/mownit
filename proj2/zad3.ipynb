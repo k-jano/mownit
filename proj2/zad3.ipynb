{
 "cells": [
  {
   "cell_type": "code",
   "execution_count": 1,
   "metadata": {},
   "outputs": [
    {
     "data": {
      "text/plain": [
       "generateSudoku (generic function with 1 method)"
      ]
     },
     "execution_count": 1,
     "metadata": {},
     "output_type": "execute_result"
    }
   ],
   "source": [
    "function generateSudoku(N)\n",
    "    i=0\n",
    "    sudoku = zeros(Int64, 9, 9)\n",
    "    map = zeros(Int64, 9, 9)\n",
    "    while i<N\n",
    "        x=rand(1:9)\n",
    "        y=rand(1:9)\n",
    "        val = rand(1:9)\n",
    "        \n",
    "        if sudoku[x,y]==0\n",
    "            sudoku[x,y]=val\n",
    "            map[x,y]=1\n",
    "            i+=1\n",
    "        end\n",
    "    end\n",
    "    return sudoku, map\n",
    "end"
   ]
  },
  {
   "cell_type": "code",
   "execution_count": 2,
   "metadata": {},
   "outputs": [
    {
     "data": {
      "text/plain": [
       "randomFilling (generic function with 1 method)"
      ]
     },
     "execution_count": 2,
     "metadata": {},
     "output_type": "execute_result"
    }
   ],
   "source": [
    "function randomFilling(sudoku)\n",
    "    counters= zeros(Int64, 9)\n",
    "    for i=1:9\n",
    "        for j=1:9\n",
    "            if sudoku[i, j]!=0\n",
    "                counters[sudoku[i,j]]+=1\n",
    "            end\n",
    "        end\n",
    "    end\n",
    "    \n",
    "    marker=1\n",
    "    for i=1:9\n",
    "        for j=1:9\n",
    "            if sudoku[i, j]==0\n",
    "                while counters[marker]==9\n",
    "                    marker+=1\n",
    "                end\n",
    "                sudoku[i,j]=marker\n",
    "                counters[marker]+=1\n",
    "            end\n",
    "        end\n",
    "    end\n",
    "    return sudoku\n",
    "end"
   ]
  },
  {
   "cell_type": "code",
   "execution_count": 3,
   "metadata": {},
   "outputs": [
    {
     "data": {
      "text/plain": [
       "9×9 Array{Int64,2}:\n",
       " 1  1  1  1  1  1  1  1  2\n",
       " 2  2  2  2  2  2  2  3  3\n",
       " 3  3  3  3  3  3  6  4  4\n",
       " 4  4  4  4  4  4  4  3  5\n",
       " 5  5  5  5  5  5  5  5  6\n",
       " 6  6  6  6  6  6  7  7  7\n",
       " 7  8  7  7  7  7  9  7  8\n",
       " 8  8  8  8  1  8  6  8  2\n",
       " 8  9  9  9  9  9  9  9  9"
      ]
     },
     "execution_count": 3,
     "metadata": {},
     "output_type": "execute_result"
    }
   ],
   "source": [
    "N=7\n",
    "sudoku, map = generateSudoku(N)\n",
    "sudoku = randomFilling(sudoku)"
   ]
  },
  {
   "cell_type": "code",
   "execution_count": 4,
   "metadata": {},
   "outputs": [
    {
     "data": {
      "text/plain": [
       "9×9 Array{Int64,2}:\n",
       " 0  0  0  0  0  0  0  0  0\n",
       " 0  0  0  0  0  0  0  0  0\n",
       " 0  0  0  0  0  0  1  0  0\n",
       " 0  0  0  0  0  0  0  1  0\n",
       " 0  0  0  0  0  0  0  0  0\n",
       " 0  0  0  0  0  0  0  0  0\n",
       " 0  1  0  0  0  0  1  0  0\n",
       " 0  0  0  0  1  0  1  0  1\n",
       " 0  0  0  0  0  0  0  0  0"
      ]
     },
     "execution_count": 4,
     "metadata": {},
     "output_type": "execute_result"
    }
   ],
   "source": [
    "map"
   ]
  }
 ],
 "metadata": {
  "kernelspec": {
   "display_name": "Julia 1.0.1",
   "language": "julia",
   "name": "julia-1.0"
  },
  "language_info": {
   "file_extension": ".jl",
   "mimetype": "application/julia",
   "name": "julia",
   "version": "1.0.1"
  }
 },
 "nbformat": 4,
 "nbformat_minor": 2
}
