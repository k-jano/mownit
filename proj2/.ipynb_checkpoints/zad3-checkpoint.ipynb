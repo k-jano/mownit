{
 "cells": [
  {
   "cell_type": "code",
   "execution_count": 1,
   "metadata": {},
   "outputs": [
    {
     "data": {
      "text/plain": [
       "generateSudoku (generic function with 1 method)"
      ]
     },
     "execution_count": 1,
     "metadata": {},
     "output_type": "execute_result"
    }
   ],
   "source": [
    "function generateSudoku(N)\n",
    "    i=0\n",
    "    sudoku = zeros(Int64, 9, 9)\n",
    "    map = zeros(Int64, 9, 9)\n",
    "    while i<N\n",
    "        x=rand(1:9)\n",
    "        y=rand(1:9)\n",
    "        val = rand(1:9)\n",
    "        \n",
    "        if sudoku[x,y]==0\n",
    "            sudoku[x,y]=val\n",
    "            map[x,y]=1\n",
    "            i+=1\n",
    "        end\n",
    "    end\n",
    "    return sudoku, map\n",
    "end"
   ]
  },
  {
   "cell_type": "code",
   "execution_count": 2,
   "metadata": {},
   "outputs": [
    {
     "data": {
      "text/plain": [
       "randomFilling (generic function with 1 method)"
      ]
     },
     "execution_count": 2,
     "metadata": {},
     "output_type": "execute_result"
    }
   ],
   "source": [
    "function randomFilling(sudoku)\n",
    "    counters= zeros(Int64, 9)\n",
    "    for i=1:9\n",
    "        for j=1:9\n",
    "            if sudoku[i, j]!=0\n",
    "                counters[sudoku[i,j]]+=1\n",
    "            end\n",
    "        end\n",
    "    end\n",
    "    \n",
    "    marker=1\n",
    "    for i=1:9\n",
    "        for j=1:9\n",
    "            if sudoku[i, j]==0\n",
    "                while counters[marker]==9\n",
    "                    marker+=1\n",
    "                end\n",
    "                sudoku[i,j]=marker\n",
    "                counters[marker]+=1\n",
    "            end\n",
    "        end\n",
    "    end\n",
    "    return sudoku\n",
    "end"
   ]
  },
  {
   "cell_type": "code",
   "execution_count": 3,
   "metadata": {},
   "outputs": [
    {
     "data": {
      "text/plain": [
       "calculateEnergy (generic function with 1 method)"
      ]
     },
     "execution_count": 3,
     "metadata": {},
     "output_type": "execute_result"
    }
   ],
   "source": [
    "function calculateEnergy(sudoku)\n",
    "    sum=243\n",
    "    #rows\n",
    "    for i=1:9\n",
    "        flagArray=zeros(Int64, 9)\n",
    "        for j=1:9\n",
    "            value = sudoku[i, j]\n",
    "            flagArray[value]=1\n",
    "        end\n",
    "        for j=1:9\n",
    "            sum-=flagArray[j]\n",
    "        end\n",
    "    end\n",
    "    \n",
    "    #columns\n",
    "    for i=1:9\n",
    "        flagArray=zeros(Int64, 9)\n",
    "        for j=1:9\n",
    "            value=sudoku[j, i]\n",
    "            flagArray[value]=1\n",
    "        end\n",
    "        for j=1:9\n",
    "            sum-=flagArray[j]\n",
    "        end\n",
    "    end\n",
    "    \n",
    "    \n",
    "    HeightStep=[1,4,7]\n",
    "    WidthStep=[1,4,7]\n",
    "    #squares\n",
    "    heightCount = 1\n",
    "    for i=1:3\n",
    "        widthCount = 1\n",
    "        for j=1:3\n",
    "            flagArray=zeros(Int64, 9)\n",
    "            for k=HeightStep[heightCount]:HeightStep[heightCount]+2\n",
    "                for l=WidthStep[widthCount]:WidthStep[widthCount]+2\n",
    "                    value=sudoku[k, l]\n",
    "                    flagArray[value]=1\n",
    "                end\n",
    "            end\n",
    "            for k=1:9\n",
    "                sum-=flagArray[k]\n",
    "            end\n",
    "            widthCount +=1\n",
    "        end\n",
    "        heightCount +=1\n",
    "    end\n",
    "    return 3^sum\n",
    "end"
   ]
  },
  {
   "cell_type": "code",
   "execution_count": 37,
   "metadata": {},
   "outputs": [
    {
     "data": {
      "text/plain": [
       "simulatedAnnealing (generic function with 1 method)"
      ]
     },
     "execution_count": 37,
     "metadata": {},
     "output_type": "execute_result"
    }
   ],
   "source": [
    "function simulatedAnnealing(sudoku, map, T)\n",
    "    while T>=1\n",
    "        x0=rand(1:9)\n",
    "        y0=rand(1:9)\n",
    "        while(map[x0, y0]==1)\n",
    "            x0=rand(1:9)\n",
    "            y0=rand(1:9)\n",
    "        end\n",
    "        signArray=[-1 -1; -1 0; -1 1; 0 -1; 0 0; 0 1; 1 -1 ; 1 0 ;1 1]\n",
    "        bestSign=0\n",
    "        bestSudoku = copy(sudoku)\n",
    "        bestEnergy = typemax(Float64)\n",
    "        \n",
    "        for i=1:9\n",
    "            if x0+signArray[i,1] >= 1 && x0 + signArray[i,1] <=9\n",
    "                if y0 + signArray[i,2] >= 1 && y0 + signArray[i,2] <=9\n",
    "                    if map[x0+signArray[i,1], y0+signArray[i,2]] != 1\n",
    "                        tmpSudoku = copy(sudoku)\n",
    "                        tmpSudoku[x0+signArray[i,1], y0+signArray[i,2]] = sudoku[x0, y0]\n",
    "                        tmpSudoku[x0, y0] = sudoku[x0+signArray[i,1], y0+signArray[i,2]]\n",
    "                        calculatedEnergy = calculateEnergy(sudoku)\n",
    "                        if calculatedEnergy < bestEnergy\n",
    "                            bestEnergy = calculatedEnergy\n",
    "                            bestSudoku = copy(tmpSudoku)\n",
    "                            bestSign = i\n",
    "                        end\n",
    "                    end\n",
    "                end\n",
    "            end\n",
    "        end\n",
    "        \n",
    "        delta = calculateEnergy(bestSudoku) - calculateEnergy(sudoku)\n",
    "        probability = exp(-delta/T)\n",
    "        u=rand(Float64)\n",
    "        if delta < 0 \n",
    "            sudoku = copy(bestSudoku)\n",
    "        elseif probability > u\n",
    "            sudoku = copy(bestSudoku)\n",
    "        end\n",
    "        T*=0.9999\n",
    "    end\n",
    "    return sudoku\n",
    "end"
   ]
  },
  {
   "cell_type": "code",
   "execution_count": 38,
   "metadata": {},
   "outputs": [
    {
     "data": {
      "text/plain": [
       "simulatedAnnealing2 (generic function with 1 method)"
      ]
     },
     "execution_count": 38,
     "metadata": {},
     "output_type": "execute_result"
    }
   ],
   "source": [
    "function simulatedAnnealing2(sudoku, map, T)\n",
    "    while T>=1\n",
    "        x0=rand(1:9)\n",
    "        y0=rand(1:9)\n",
    "        while(map[x0, y0]==1)\n",
    "            x0=rand(1:9)\n",
    "            y0=rand(1:9)\n",
    "        end\n",
    "        bestSudoku = copy(sudoku)\n",
    "        bestEnergy = typemax(Float64)\n",
    "        \n",
    "        for i=1:9\n",
    "            for j=1:9\n",
    "                if i!=x0 && j!=y0\n",
    "                    if map[i, j]!=1\n",
    "                        tmpSudoku = copy(sudoku)\n",
    "                        tmpSudoku[i, j] = sudoku[x0, y0]\n",
    "                        tmpSudoku[x0, y0] = sudoku[i, j]\n",
    "                        calculatedEnergy = calculateEnergy(sudoku)\n",
    "                        if calculatedEnergy < bestEnergy\n",
    "                            bestEnergy = calculatedEnergy\n",
    "                            bestSudoku = copy(tmpSudoku)\n",
    "                        end\n",
    "                    end\n",
    "                end\n",
    "            end\n",
    "        end\n",
    "        \n",
    "        delta = calculateEnergy(bestSudoku) - calculateEnergy(sudoku)\n",
    "        probability = exp(-delta/T)\n",
    "        u=rand(Float64)\n",
    "        if delta < 0 \n",
    "            sudoku = copy(bestSudoku)\n",
    "        elseif probability > u\n",
    "            sudoku = copy(bestSudoku)\n",
    "        end\n",
    "        T*=0.9999\n",
    "    end\n",
    "    return sudoku\n",
    "end"
   ]
  },
  {
   "cell_type": "code",
   "execution_count": 39,
   "metadata": {},
   "outputs": [
    {
     "data": {
      "text/plain": [
       "9×9 Array{Int64,2}:\n",
       " 0  0  0  0  0  0  0  7  0\n",
       " 0  0  0  0  0  0  0  0  0\n",
       " 0  0  0  0  0  0  0  8  0\n",
       " 0  0  0  0  0  6  0  0  0\n",
       " 0  0  0  0  3  0  0  3  0\n",
       " 0  0  3  7  0  0  0  0  0\n",
       " 0  0  0  0  0  0  0  0  0\n",
       " 0  0  0  0  0  0  0  0  0\n",
       " 0  0  0  0  0  0  0  0  0"
      ]
     },
     "execution_count": 39,
     "metadata": {},
     "output_type": "execute_result"
    }
   ],
   "source": [
    "N=7\n",
    "sudoku, map = generateSudoku(N)\n",
    "sudoku"
   ]
  },
  {
   "cell_type": "code",
   "execution_count": 40,
   "metadata": {},
   "outputs": [
    {
     "name": "stdout",
     "output_type": "stream",
     "text": [
      "117\n"
     ]
    },
    {
     "data": {
      "text/plain": [
       "9×9 Array{Int64,2}:\n",
       " 1  1  1  1  1  1  1  7  1\n",
       " 1  2  2  2  2  2  2  2  2\n",
       " 2  3  3  3  3  3  3  8  4\n",
       " 4  4  4  4  4  6  4  4  4\n",
       " 5  5  5  5  3  5  5  3  5\n",
       " 5  5  3  7  6  6  6  6  6\n",
       " 6  6  6  7  7  7  7  7  7\n",
       " 7  8  8  8  8  8  8  8  8\n",
       " 9  9  9  9  9  9  9  9  9"
      ]
     },
     "execution_count": 40,
     "metadata": {},
     "output_type": "execute_result"
    }
   ],
   "source": [
    "sudoku = randomFilling(sudoku)\n",
    "println(calculateEnergy(sudoku))\n",
    "sudoku"
   ]
  },
  {
   "cell_type": "code",
   "execution_count": 60,
   "metadata": {},
   "outputs": [
    {
     "name": "stdout",
     "output_type": "stream",
     "text": [
      "56\n"
     ]
    },
    {
     "data": {
      "text/plain": [
       "9×9 Array{Int64,2}:\n",
       " 6  6  4  2  5  9  6  7  2\n",
       " 9  1  5  1  7  8  2  3  1\n",
       " 4  3  9  5  4  7  8  8  1\n",
       " 7  3  9  2  1  6  2  4  8\n",
       " 8  6  1  8  3  5  4  3  7\n",
       " 4  5  3  7  2  3  9  6  2\n",
       " 2  1  8  4  9  2  9  7  6\n",
       " 5  5  6  9  3  4  1  6  7\n",
       " 3  9  4  5  8  1  7  5  8"
      ]
     },
     "execution_count": 60,
     "metadata": {},
     "output_type": "execute_result"
    }
   ],
   "source": [
    "T=100\n",
    "resSudoku = simulatedAnnealing(sudoku, map, T)\n",
    "println(calculateEnergy(resSudoku))\n",
    "resSudoku"
   ]
  },
  {
   "cell_type": "code",
   "execution_count": 63,
   "metadata": {},
   "outputs": [
    {
     "name": "stdout",
     "output_type": "stream",
     "text": [
      "55\n"
     ]
    },
    {
     "data": {
      "text/plain": [
       "9×9 Array{Int64,2}:\n",
       " 7  1  2  5  1  1  1  7  4\n",
       " 1  3  9  6  4  9  3  5  6\n",
       " 6  5  4  3  2  8  9  8  3\n",
       " 1  8  4  2  7  6  7  6  9\n",
       " 7  8  9  4  3  7  2  3  5\n",
       " 9  6  3  7  9  2  6  8  4\n",
       " 1  2  1  9  5  5  6  3  2\n",
       " 5  7  8  5  8  3  4  2  8\n",
       " 1  8  6  2  4  4  5  7  9"
      ]
     },
     "execution_count": 63,
     "metadata": {},
     "output_type": "execute_result"
    }
   ],
   "source": [
    "T=100\n",
    "resSudoku2 = simulatedAnnealing2(sudoku, map, T)\n",
    "println(calculateEnergy(resSudoku2))\n",
    "resSudoku2"
   ]
  }
 ],
 "metadata": {
  "kernelspec": {
   "display_name": "Julia 1.0.1",
   "language": "julia",
   "name": "julia-1.0"
  },
  "language_info": {
   "file_extension": ".jl",
   "mimetype": "application/julia",
   "name": "julia",
   "version": "1.0.1"
  }
 },
 "nbformat": 4,
 "nbformat_minor": 2
}
