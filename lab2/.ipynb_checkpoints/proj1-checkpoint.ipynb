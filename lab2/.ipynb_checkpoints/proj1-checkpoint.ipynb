{
 "cells": [
  {
   "cell_type": "code",
   "execution_count": 1,
   "metadata": {},
   "outputs": [
    {
     "data": {
      "text/plain": [
       "4"
      ]
     },
     "execution_count": 1,
     "metadata": {},
     "output_type": "execute_result"
    }
   ],
   "source": [
    "N=4"
   ]
  },
  {
   "cell_type": "code",
   "execution_count": 8,
   "metadata": {},
   "outputs": [
    {
     "data": {
      "text/plain": [
       "generate_random_graph (generic function with 1 method)"
      ]
     },
     "execution_count": 8,
     "metadata": {},
     "output_type": "execute_result"
    }
   ],
   "source": [
    "function generate_random_graph()\n",
    "    N=4\n",
    "    A = Array{Int64}(undef, N, N)\n",
    "\n",
    "    for i=1:N, j=1:N\n",
    "      A[i,j] = 0\n",
    "    end\n",
    "\n",
    "    for i in sample(1:N*N, K, replace=false)\n",
    "      row, col = ind2sub(size(A), i)\n",
    "      A[row,col] = 1\n",
    "      A[col,row] = 1\n",
    "    end\n",
    "    return A\n",
    "end"
   ]
  },
  {
   "cell_type": "code",
   "execution_count": 9,
   "metadata": {},
   "outputs": [
    {
     "ename": "MethodError",
     "evalue": "MethodError: no method matching Array{Int64,2}(::Int64, ::Int64)\nClosest candidates are:\n  Array{Int64,2}(!Matched::UndefInitializer, ::Int64, !Matched::Int64) where T at boot.jl:396\n  Array{Int64,2}(!Matched::UndefInitializer, ::Int64...) where {T, N} at boot.jl:400\n  Array{Int64,2}(!Matched::UndefInitializer, ::Integer, !Matched::Integer) where T at sysimg.jl:143\n  ...",
     "output_type": "error",
     "traceback": [
      "MethodError: no method matching Array{Int64,2}(::Int64, ::Int64)\nClosest candidates are:\n  Array{Int64,2}(!Matched::UndefInitializer, ::Int64, !Matched::Int64) where T at boot.jl:396\n  Array{Int64,2}(!Matched::UndefInitializer, ::Int64...) where {T, N} at boot.jl:400\n  Array{Int64,2}(!Matched::UndefInitializer, ::Integer, !Matched::Integer) where T at sysimg.jl:143\n  ...",
      "",
      "Stacktrace:",
      " [1] generate_random_graph() at .\\In[8]:3",
      " [2] top-level scope at In[9]:1"
     ]
    }
   ],
   "source": [
    "myGraph = generate_random_graph()"
   ]
  }
 ],
 "metadata": {
  "kernelspec": {
   "display_name": "Julia 1.0.1",
   "language": "julia",
   "name": "julia-1.0"
  },
  "language_info": {
   "file_extension": ".jl",
   "mimetype": "application/julia",
   "name": "julia",
   "version": "1.0.1"
  }
 },
 "nbformat": 4,
 "nbformat_minor": 2
}
