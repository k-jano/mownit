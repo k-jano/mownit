{
 "cells": [
  {
   "cell_type": "code",
   "execution_count": 4,
   "metadata": {},
   "outputs": [
    {
     "data": {
      "text/plain": [
       "gauss (generic function with 1 method)"
      ]
     },
     "execution_count": 4,
     "metadata": {},
     "output_type": "execute_result"
    }
   ],
   "source": [
    "function gauss(A, n)\n",
    "    for i = 1:n\n",
    "        for k = i+1:n\n",
    "            c = -A[k,i]/A[i,i]\n",
    "            for j = i:n+1\n",
    "                A[k, j] +=  c * A[i,j]\n",
    "            end\n",
    "        end\n",
    "    end\n",
    "end"
   ]
  },
  {
   "cell_type": "code",
   "execution_count": 5,
   "metadata": {},
   "outputs": [
    {
     "data": {
      "text/plain": [
       "4×5 Array{Float64,2}:\n",
       "  2.0   2.0  -1.0   1.0   7.0\n",
       " -1.0   1.0   2.0   3.0   3.0\n",
       "  3.0  -1.0   4.0  -1.0  31.0\n",
       "  1.0   4.0  -2.0   2.0   2.0"
      ]
     },
     "execution_count": 5,
     "metadata": {},
     "output_type": "execute_result"
    }
   ],
   "source": [
    "n = 4\n",
    "#A = rand(1.0:100.0, n, n+1)\n",
    "A=[2.0 2.0 (-1.0) 1.0 7.0; (-1.0) 1.0 2.0 3.0 3.0; 3.0 (-1.0) 4.0 (-1.0) 31.0; 1.0 4.0 (-2.0) 2.0 2.0]\n",
    "Atemp = copy(A)\n",
    "Acorrect= A[:, 1:4]\n",
    "Bcorrect = A[:, 5]\n",
    "A"
   ]
  },
  {
   "cell_type": "code",
   "execution_count": 1,
   "metadata": {},
   "outputs": [
    {
     "data": {
      "text/plain": [
       "gaussCorrect (generic function with 1 method)"
      ]
     },
     "execution_count": 1,
     "metadata": {},
     "output_type": "execute_result"
    }
   ],
   "source": [
    "function gaussCorrect(A, n)\n",
    "    \n",
    "    for i = 1:n\n",
    "        #Searching maximum in column\n",
    "        maxEl = abs(A[i, i])\n",
    "        maxRow = i\n",
    "        for k = i+1:n\n",
    "            if abs(A[k,i])>maxEl\n",
    "                maxEl = abs(A[k,i])\n",
    "                maxRow = k\n",
    "            end\n",
    "        end\n",
    "        \n",
    "        #Swapping rows\n",
    "        for k = i:n+1\n",
    "            tmp = A[maxRow, k]\n",
    "            A[maxRow,k] = A[i, k]\n",
    "            A[i, k] = tmp\n",
    "        end\n",
    "        \n",
    "        for k = i+1:n\n",
    "            c = -A[k,i]/A[i,i]\n",
    "            for j = i:n+1\n",
    "                A[k, j] +=  c * A[i,j]\n",
    "            end\n",
    "        end\n",
    "    end\n",
    "end"
   ]
  },
  {
   "cell_type": "code",
   "execution_count": 7,
   "metadata": {},
   "outputs": [
    {
     "data": {
      "text/plain": [
       "4×5 Array{Float64,2}:\n",
       "  2.0   2.0  -1.0   1.0   7.0\n",
       " -1.0   1.0   2.0   3.0   3.0\n",
       "  3.0  -1.0   4.0  -1.0  31.0\n",
       "  1.0   4.0  -2.0   2.0   2.0"
      ]
     },
     "execution_count": 7,
     "metadata": {},
     "output_type": "execute_result"
    }
   ],
   "source": [
    "A"
   ]
  },
  {
   "cell_type": "code",
   "execution_count": 8,
   "metadata": {},
   "outputs": [
    {
     "data": {
      "text/plain": [
       "4×5 Array{Float64,2}:\n",
       "  2.0   2.0  -1.0   1.0   7.0\n",
       " -1.0   1.0   2.0   3.0   3.0\n",
       "  3.0  -1.0   4.0  -1.0  31.0\n",
       "  1.0   4.0  -2.0   2.0   2.0"
      ]
     },
     "execution_count": 8,
     "metadata": {},
     "output_type": "execute_result"
    }
   ],
   "source": [
    "Atemp"
   ]
  },
  {
   "cell_type": "code",
   "execution_count": 9,
   "metadata": {},
   "outputs": [
    {
     "data": {
      "text/plain": [
       "4×5 Array{Float64,2}:\n",
       " 2.0  2.0  -1.0   1.0       7.0    \n",
       " 0.0  2.0   1.5   3.5       6.5    \n",
       " 0.0  0.0   8.5   4.5      33.5    \n",
       " 0.0  0.0   0.0  -1.76471   3.52941"
      ]
     },
     "execution_count": 9,
     "metadata": {},
     "output_type": "execute_result"
    }
   ],
   "source": [
    "gauss(A, n)\n",
    "A"
   ]
  },
  {
   "cell_type": "code",
   "execution_count": 10,
   "metadata": {},
   "outputs": [
    {
     "data": {
      "text/plain": [
       "4×5 Array{Float64,2}:\n",
       " 3.0  -1.0       4.0      -1.0      31.0    \n",
       " 0.0   4.33333  -3.33333   2.33333  -8.33333\n",
       " 0.0   0.0       3.84615   2.30769  14.6154 \n",
       " 0.0   0.0       0.0       1.2      -2.4    "
      ]
     },
     "execution_count": 10,
     "metadata": {},
     "output_type": "execute_result"
    }
   ],
   "source": [
    "gaussCorrect(Atemp, n)\n",
    "Atemp"
   ]
  },
  {
   "cell_type": "code",
   "execution_count": 11,
   "metadata": {
    "scrolled": true
   },
   "outputs": [
    {
     "data": {
      "text/plain": [
       "4×4 Array{Float64,2}:\n",
       " 2.0  2.0  -1.0   1.0    \n",
       " 0.0  2.0   1.5   3.5    \n",
       " 0.0  0.0   8.5   4.5    \n",
       " 0.0  0.0   0.0  -1.76471"
      ]
     },
     "execution_count": 11,
     "metadata": {},
     "output_type": "execute_result"
    }
   ],
   "source": [
    "A1= A[:, 1:4]"
   ]
  },
  {
   "cell_type": "code",
   "execution_count": 12,
   "metadata": {},
   "outputs": [
    {
     "data": {
      "text/plain": [
       "4-element Array{Float64,1}:\n",
       "  7.0               \n",
       "  6.5               \n",
       " 33.5               \n",
       "  3.5294117647058822"
      ]
     },
     "execution_count": 12,
     "metadata": {},
     "output_type": "execute_result"
    }
   ],
   "source": [
    "B1 = A[:, 5]"
   ]
  },
  {
   "cell_type": "code",
   "execution_count": 14,
   "metadata": {},
   "outputs": [
    {
     "data": {
      "text/plain": [
       "4×4 Array{Float64,2}:\n",
       " 3.0  -1.0       4.0      -1.0    \n",
       " 0.0   4.33333  -3.33333   2.33333\n",
       " 0.0   0.0       3.84615   2.30769\n",
       " 0.0   0.0       0.0       1.2    "
      ]
     },
     "execution_count": 14,
     "metadata": {},
     "output_type": "execute_result"
    }
   ],
   "source": [
    "A2 = Atemp[:, 1:4]"
   ]
  },
  {
   "cell_type": "code",
   "execution_count": 15,
   "metadata": {},
   "outputs": [
    {
     "data": {
      "text/plain": [
       "4-element Array{Float64,1}:\n",
       " 31.0               \n",
       " -8.333333333333332 \n",
       " 14.615384615384615 \n",
       " -2.3999999999999977"
      ]
     },
     "execution_count": 15,
     "metadata": {},
     "output_type": "execute_result"
    }
   ],
   "source": [
    "B2 = Atemp[:, 5]"
   ]
  },
  {
   "cell_type": "code",
   "execution_count": 16,
   "metadata": {},
   "outputs": [
    {
     "data": {
      "text/plain": [
       "4-element Array{Float64,1}:\n",
       "  4.0               \n",
       "  3.0               \n",
       "  5.0               \n",
       " -1.9999999999999998"
      ]
     },
     "execution_count": 16,
     "metadata": {},
     "output_type": "execute_result"
    }
   ],
   "source": [
    "A1 \\ B1"
   ]
  },
  {
   "cell_type": "code",
   "execution_count": 17,
   "metadata": {},
   "outputs": [
    {
     "data": {
      "text/plain": [
       "4-element Array{Float64,1}:\n",
       "  4.0               \n",
       "  2.9999999999999987\n",
       "  4.999999999999999 \n",
       " -1.9999999999999984"
      ]
     },
     "execution_count": 17,
     "metadata": {},
     "output_type": "execute_result"
    }
   ],
   "source": [
    "A2 \\ B2"
   ]
  },
  {
   "cell_type": "code",
   "execution_count": 18,
   "metadata": {},
   "outputs": [
    {
     "data": {
      "text/plain": [
       "4-element Array{Float64,1}:\n",
       "  4.000000000000001 \n",
       "  2.9999999999999987\n",
       "  4.999999999999999 \n",
       " -1.9999999999999984"
      ]
     },
     "execution_count": 18,
     "metadata": {},
     "output_type": "execute_result"
    }
   ],
   "source": [
    "Acorrect \\ Bcorrect"
   ]
  },
  {
   "cell_type": "code",
   "execution_count": 19,
   "metadata": {},
   "outputs": [
    {
     "data": {
      "text/plain": [
       "4×6 Array{Float64,2}:\n",
       " 1.0  -1.0   0.0  0.0  0.0   0.0\n",
       " 0.0   1.0  -1.0  0.0  0.0  -1.0\n",
       " 0.0   0.0   1.0  1.0  1.0   0.0\n",
       " 1.0   0.0   0.0  0.0  1.0   1.0"
      ]
     },
     "execution_count": 19,
     "metadata": {},
     "output_type": "execute_result"
    }
   ],
   "source": [
    "C = [1.0 -1.0 0 0 0 0; 0 1.0 -1 0 0 -1; 0 0 1 1 1 0; 1 0 0 0 1 1]"
   ]
  },
  {
   "cell_type": "code",
   "execution_count": 20,
   "metadata": {},
   "outputs": [
    {
     "data": {
      "text/plain": [
       "4-element Array{Float64,1}:\n",
       " -80.0\n",
       "  50.0\n",
       " 130.0\n",
       " 100.0"
      ]
     },
     "execution_count": 20,
     "metadata": {},
     "output_type": "execute_result"
    }
   ],
   "source": [
    "D = [-80.0; 50; 130; 100]"
   ]
  },
  {
   "cell_type": "code",
   "execution_count": 21,
   "metadata": {},
   "outputs": [
    {
     "data": {
      "text/plain": [
       "6-element Array{Float64,1}:\n",
       " -2.500000000000002\n",
       " 77.49999999999997 \n",
       "  8.928571428571422\n",
       " 37.14285714285713 \n",
       " 83.92857142857139 \n",
       " 18.571428571428573"
      ]
     },
     "execution_count": 21,
     "metadata": {},
     "output_type": "execute_result"
    }
   ],
   "source": [
    "C\\D"
   ]
  },
  {
   "cell_type": "code",
   "execution_count": 3,
   "metadata": {},
   "outputs": [
    {
     "data": {
      "text/plain": [
       "4×6 Array{Float64,2}:\n",
       " 3.0  -1.0       4.0      -1.0      31.0      2.0\n",
       " 0.0   4.33333  -3.33333   2.33333  -8.33333  4.0\n",
       " 0.0   0.0       3.84615   2.30769  14.6154   1.0\n",
       " 0.0   0.0       0.0       1.2      -2.4      4.0"
      ]
     },
     "execution_count": 3,
     "metadata": {},
     "output_type": "execute_result"
    }
   ],
   "source": [
    "n = 4\n",
    "#A = rand(1.0:100.0, n, n+1)\n",
    "A=[2.0 2.0 (-1.0) 1.0 7.0 2; (-1.0) 1.0 2.0 3.0 3.0 4; 3.0 (-1.0) 4.0 (-1.0) 31.0 1; 1.0 4.0 (-2.0) 2.0 2.0 4]\n",
    "Atemp = copy(A)\n",
    "Acorrect= A[:, 1:4]\n",
    "Bcorrect = A[:, 5]\n",
    "gaussCorrect(A, n)\n",
    "A"
   ]
  }
 ],
 "metadata": {
  "kernelspec": {
   "display_name": "Julia 1.0.1",
   "language": "julia",
   "name": "julia-1.0"
  },
  "language_info": {
   "file_extension": ".jl",
   "mimetype": "application/julia",
   "name": "julia",
   "version": "1.0.1"
  }
 },
 "nbformat": 4,
 "nbformat_minor": 2
}
