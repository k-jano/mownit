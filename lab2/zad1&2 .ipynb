{
 "cells": [
  {
   "cell_type": "code",
   "execution_count": 26,
   "metadata": {},
   "outputs": [
    {
     "data": {
      "text/plain": [
       "gauss (generic function with 1 method)"
      ]
     },
     "execution_count": 26,
     "metadata": {},
     "output_type": "execute_result"
    }
   ],
   "source": [
    "function gauss(A, n)\n",
    "    for i = 1:n\n",
    "        for k = i+1:n\n",
    "            c = -A[k,i]/A[i,i]\n",
    "            for j = i:n\n",
    "                A[k, j] +=  c * A[i,j]\n",
    "            end\n",
    "        end\n",
    "    end\n",
    "end"
   ]
  },
  {
   "cell_type": "code",
   "execution_count": 28,
   "metadata": {},
   "outputs": [
    {
     "data": {
      "text/plain": [
       "4×4 Array{Float64,2}:\n",
       " 56.0  29.0  16.0  56.0\n",
       " 12.0  80.0  55.0  30.0\n",
       " 28.0  63.0  84.0  19.0\n",
       " 19.0   5.0  52.0  49.0"
      ]
     },
     "execution_count": 28,
     "metadata": {},
     "output_type": "execute_result"
    }
   ],
   "source": [
    "n = 4\n",
    "A = rand(1.0:100.0, n, n)"
   ]
  },
  {
   "cell_type": "code",
   "execution_count": 30,
   "metadata": {},
   "outputs": [
    {
     "data": {
      "text/plain": [
       "4-element Array{Float64,1}:\n",
       " 66.0\n",
       " 68.0\n",
       " 38.0\n",
       " 54.0"
      ]
     },
     "execution_count": 30,
     "metadata": {},
     "output_type": "execute_result"
    }
   ],
   "source": [
    "B = rand(1.0:100.0, n)"
   ]
  },
  {
   "cell_type": "code",
   "execution_count": 31,
   "metadata": {},
   "outputs": [
    {
     "data": {
      "text/plain": [
       "4×4 Array{Float64,2}:\n",
       " 56.0  29.0     16.0           56.0   \n",
       "  0.0  73.7857  51.5714        18.0   \n",
       "  0.0   0.0     42.1016       -20.8316\n",
       "  0.0   0.0     -7.10543e-15   55.8973"
      ]
     },
     "execution_count": 31,
     "metadata": {},
     "output_type": "execute_result"
    }
   ],
   "source": [
    "gauss(A, n)\n",
    "A"
   ]
  },
  {
   "cell_type": "code",
   "execution_count": 32,
   "metadata": {},
   "outputs": [
    {
     "data": {
      "text/plain": [
       "gaussCorrect (generic function with 1 method)"
      ]
     },
     "execution_count": 32,
     "metadata": {},
     "output_type": "execute_result"
    }
   ],
   "source": [
    "function gaussCorrect(A, n)\n",
    "    #Searching maximum in column\n",
    "    for i = 1:n\n",
    "        maxEl = abs(A[i][i])\n",
    "        maxRow = i\n",
    "        for k = i+1:n\n",
    "            if(abs[k][i]>maxEl)\n",
    "                maxEl = abs[k][i]\n",
    "                maxRow = k\n",
    "            end\n",
    "        end\n",
    "        \n",
    "        for k = i:n\n",
    "            tmp = A[maxRow][k]\n",
    "            A[maxRow,k] = A[i][k]\n",
    "            A[i, k] = tmp\n",
    "        end\n",
    "        \n",
    "        for k = i+1:n\n",
    "            c = -A[k,i]/A[i,i]\n",
    "            for j = i:n\n",
    "                A[k, j] +=  c * A[i,j]\n",
    "            end\n",
    "        end\n",
    "    end\n",
    "end"
   ]
  },
  {
   "cell_type": "code",
   "execution_count": 33,
   "metadata": {},
   "outputs": [
    {
     "data": {
      "text/plain": [
       "4×4 Array{Float64,2}:\n",
       " 56.0  29.0     16.0      56.0   \n",
       "  0.0  73.7857  51.5714   18.0   \n",
       "  0.0   0.0     42.1016  -20.8316\n",
       "  0.0   0.0      0.0      55.8973"
      ]
     },
     "execution_count": 33,
     "metadata": {},
     "output_type": "execute_result"
    }
   ],
   "source": [
    "gauss(A, n)\n",
    "A"
   ]
  },
  {
   "cell_type": "code",
   "execution_count": null,
   "metadata": {},
   "outputs": [],
   "source": []
  }
 ],
 "metadata": {
  "kernelspec": {
   "display_name": "Julia 1.0.1",
   "language": "julia",
   "name": "julia-1.0"
  },
  "language_info": {
   "file_extension": ".jl",
   "mimetype": "application/julia",
   "name": "julia",
   "version": "1.0.1"
  }
 },
 "nbformat": 4,
 "nbformat_minor": 2
}
