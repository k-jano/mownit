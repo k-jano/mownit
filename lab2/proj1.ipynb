{
 "cells": [
  {
   "cell_type": "code",
   "execution_count": 1,
   "metadata": {},
   "outputs": [
    {
     "data": {
      "text/plain": [
       "4"
      ]
     },
     "execution_count": 1,
     "metadata": {},
     "output_type": "execute_result"
    }
   ],
   "source": [
    "N=4"
   ]
  },
  {
   "cell_type": "code",
   "execution_count": 33,
   "metadata": {},
   "outputs": [
    {
     "data": {
      "text/plain": [
       "generate_random_graph (generic function with 1 method)"
      ]
     },
     "execution_count": 33,
     "metadata": {},
     "output_type": "execute_result"
    }
   ],
   "source": [
    "function generate_random_graph()\n",
    "    N=4\n",
    "    A = Array{Int64}(undef, N, N)\n",
    "\n",
    "    for i=1:N, j=1:N\n",
    "      A[i,j] = 0\n",
    "    end\n",
    "\n",
    "    #for i in sample(1:N*N, K, replace=false)\n",
    "    #  row, col = ind2sub(size(A), i)\n",
    "    #  A[row,col] = 1\n",
    "    #  A[col,row] = 1\n",
    "    #end\n",
    "    for i = 1:N\n",
    "        for j = 1:N\n",
    "            if i!=j && A[i,j]==0\n",
    "                A[i,j]=rand(0:1)\n",
    "            end\n",
    "        end\n",
    "    end\n",
    "    return A\n",
    "end"
   ]
  },
  {
   "cell_type": "code",
   "execution_count": 34,
   "metadata": {},
   "outputs": [
    {
     "data": {
      "text/plain": [
       "4×4 Array{Int64,2}:\n",
       " 0  1  0  0\n",
       " 0  0  1  1\n",
       " 1  0  0  1\n",
       " 1  0  0  0"
      ]
     },
     "execution_count": 34,
     "metadata": {},
     "output_type": "execute_result"
    }
   ],
   "source": [
    "myGraph = generate_random_graph()"
   ]
  }
 ],
 "metadata": {
  "kernelspec": {
   "display_name": "Julia 1.0.1",
   "language": "julia",
   "name": "julia-1.0"
  },
  "language_info": {
   "file_extension": ".jl",
   "mimetype": "application/julia",
   "name": "julia",
   "version": "1.0.1"
  }
 },
 "nbformat": 4,
 "nbformat_minor": 2
}
