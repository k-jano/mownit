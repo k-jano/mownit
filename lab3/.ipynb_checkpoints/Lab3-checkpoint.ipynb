{
 "cells": [
  {
   "cell_type": "code",
   "execution_count": 74,
   "metadata": {},
   "outputs": [
    {
     "data": {
      "text/plain": [
       "bisection (generic function with 2 methods)"
      ]
     },
     "execution_count": 74,
     "metadata": {},
     "output_type": "execute_result"
    }
   ],
   "source": [
    "function f(x)\n",
    "    #return x*x -2.71*x +1\n",
    "    return sin(x-pi/2) * 2.71828182845904523536 ^(-x*sin(x))\n",
    "end\n",
    "\n",
    "function bisection(a, b, tol, steps)\n",
    "    c=(a+b)/2.0\n",
    "    while(b-a)/2.0 > tol && steps>=0\n",
    "        if f(c) == 0\n",
    "            return c\n",
    "        elseif f(a)*f(c) < 0\n",
    "            b = c\n",
    "        else\n",
    "            a = c\n",
    "        end \n",
    "        c = (a+b)/2.0\n",
    "        steps-=1\n",
    "    end\n",
    "    return c\n",
    "end"
   ]
  },
  {
   "cell_type": "code",
   "execution_count": 76,
   "metadata": {},
   "outputs": [
    {
     "ename": "UndefVarError",
     "evalue": "UndefVarError: e not defined",
     "output_type": "error",
     "traceback": [
      "UndefVarError: e not defined",
      "",
      "Stacktrace:",
      " [1] f(::Float64) at .\\In[74]:3",
      " [2] bisection(::Int64, ::Int64, ::Float64, ::Int64) at .\\In[74]:9",
      " [3] top-level scope at In[76]:1"
     ]
    }
   ],
   "source": [
    "bisection(-10, 10, 0.000001, 10000)"
   ]
  },
  {
   "cell_type": "code",
   "execution_count": 75,
   "metadata": {},
   "outputs": [
    {
     "ename": "UndefVarError",
     "evalue": "UndefVarError: e not defined",
     "output_type": "error",
     "traceback": [
      "UndefVarError: e not defined",
      "",
      "Stacktrace:",
      " [1] f(::Float64) at .\\In[74]:3",
      " [2] bisection(::Int64, ::Int64, ::Float64, ::Int64) at .\\In[74]:9",
      " [3] top-level scope at In[75]:1"
     ]
    }
   ],
   "source": [
    "bisection(-2,2, 0.000001, 10000)"
   ]
  },
  {
   "cell_type": "code",
   "execution_count": 66,
   "metadata": {},
   "outputs": [
    {
     "data": {
      "text/plain": [
       "falsi (generic function with 1 method)"
      ]
     },
     "execution_count": 66,
     "metadata": {},
     "output_type": "execute_result"
    }
   ],
   "source": [
    "function falsi(a, b, tol, steps)\n",
    "    p=0\n",
    "    while steps>=0\n",
    "        FA= f(a)\n",
    "        FB= f(b)\n",
    "        p =(a*f(b)-b*f(a))/(f(b) - f(a))\n",
    "        FP = f(p)\n",
    "        if FP==0 || abs(f(p)<tol)\n",
    "            break;\n",
    "        end\n",
    "        \n",
    "        steps-=1\n",
    "        if FB*FP < 0\n",
    "            a=p\n",
    "        else\n",
    "            b=a\n",
    "            a=p\n",
    "        end\n",
    "    end\n",
    "    return p   \n",
    "end"
   ]
  },
  {
   "cell_type": "code",
   "execution_count": 67,
   "metadata": {},
   "outputs": [
    {
     "data": {
      "text/plain": [
       "0.4406559542681031"
      ]
     },
     "execution_count": 67,
     "metadata": {},
     "output_type": "execute_result"
    }
   ],
   "source": [
    "falsi(-10, 10, 0.000001, 10000)"
   ]
  },
  {
   "cell_type": "code",
   "execution_count": 68,
   "metadata": {},
   "outputs": [
    {
     "data": {
      "text/plain": [
       "0.44065589838852187"
      ]
     },
     "execution_count": 68,
     "metadata": {},
     "output_type": "execute_result"
    }
   ],
   "source": [
    "falsi(-100, 100, 0.000001, 100000)"
   ]
  },
  {
   "cell_type": "code",
   "execution_count": 69,
   "metadata": {},
   "outputs": [
    {
     "data": {
      "text/plain": [
       "3.3965373180677716e-8"
      ]
     },
     "execution_count": 69,
     "metadata": {},
     "output_type": "execute_result"
    }
   ],
   "source": [
    "f(0.4406559542681031)"
   ]
  },
  {
   "cell_type": "code",
   "execution_count": 80,
   "metadata": {},
   "outputs": [
    {
     "ename": "UndefVarError",
     "evalue": "UndefVarError: e not defined",
     "output_type": "error",
     "traceback": [
      "UndefVarError: e not defined",
      "",
      "Stacktrace:",
      " [1] top-level scope at In[80]:1"
     ]
    }
   ],
   "source": [
    "e"
   ]
  }
 ],
 "metadata": {
  "kernelspec": {
   "display_name": "Julia 1.0.1",
   "language": "julia",
   "name": "julia-1.0"
  },
  "language_info": {
   "file_extension": ".jl",
   "mimetype": "application/julia",
   "name": "julia",
   "version": "1.0.1"
  }
 },
 "nbformat": 4,
 "nbformat_minor": 2
}
