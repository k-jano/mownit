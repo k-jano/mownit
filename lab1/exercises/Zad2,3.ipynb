{
 "cells": [
  {
   "cell_type": "code",
   "execution_count": 1,
   "metadata": {},
   "outputs": [
    {
     "data": {
      "text/plain": [
       "sumSubArray (generic function with 1 method)"
      ]
     },
     "execution_count": 1,
     "metadata": {},
     "output_type": "execute_result"
    }
   ],
   "source": [
    "using Printf\n",
    "\n",
    "function sum_elements(array)\n",
    "    return_tmp = 0\n",
    "    for i= 1:length(array)\n",
    "        return_tmp+=array[i]\n",
    "    end\n",
    "    return return_tmp\n",
    "end\n",
    "\n",
    "function recursive_sum_elements(myArray, acc, stop, i)\n",
    "    if i==stop\n",
    "        return acc\n",
    "    else\n",
    "        tmp=pop!(myArray)\n",
    "        acc+=tmp\n",
    "        i++\n",
    "        return recursive_sum_elements(myArray, acc, stop, i)\n",
    "    end\n",
    "end\n",
    "    \n",
    "function simple_multiplication(a,b)\n",
    "    return a*b\n",
    "end\n",
    "\n",
    "function absolute(a,b)\n",
    "    return abs(a-b)\n",
    "end\n",
    "\n",
    "function relative(a,b)\n",
    "    return absolute(a,b)/ b\n",
    "end\n",
    "\n",
    "function sumSubArray(arrAbs, arrRel, arrLen, array, myStep)\n",
    "    mySum = 0\n",
    "    myValue = array[1]\n",
    "    range = Int64(length(array)/ myStep)\n",
    "    #@printf \"%d\" range\n",
    "    for i= 1:range\n",
    "        for j= 1:myStep\n",
    "            mySum += array[myStep*(i-1) + j]\n",
    "            #@printf \"Dodalem\"\n",
    "        end\n",
    "        realVal = myValue * i * myStep\n",
    "        tmpAbs = absolute(mySum, realVal)\n",
    "        push!(arrAbs, tmpAbs)\n",
    "        tmpRel = relative(mySum, realVal)\n",
    "        push!(arrRel, tmpRel)\n",
    "        push!(arrLen, Int64(range*i))\n",
    "    end\n",
    "end"
   ]
  },
  {
   "cell_type": "code",
   "execution_count": 2,
   "metadata": {
    "scrolled": true
   },
   "outputs": [
    {
     "data": {
      "text/plain": [
       "0.1539157f0"
      ]
     },
     "execution_count": 2,
     "metadata": {},
     "output_type": "execute_result"
    }
   ],
   "source": [
    "my_range = 10000000\n",
    "my_variable=Float32(pop!(rand(1)))\n",
    "array = Float32[]\n",
    "arrayCopy = Float32[]\n",
    "for i=1:my_range\n",
    "    push!(array, my_variable)\n",
    "    push!(arrayCopy, my_variable)\n",
    "end\n",
    "my_variable"
   ]
  },
  {
   "cell_type": "code",
   "execution_count": 3,
   "metadata": {},
   "outputs": [
    {
     "data": {
      "text/plain": [
       "1.3538339f6"
      ]
     },
     "execution_count": 3,
     "metadata": {},
     "output_type": "execute_result"
    }
   ],
   "source": [
    "mySum = sum_elements(array)"
   ]
  },
  {
   "cell_type": "code",
   "execution_count": 4,
   "metadata": {},
   "outputs": [
    {
     "data": {
      "text/plain": [
       "\"01001001101001010100001101001111\""
      ]
     },
     "execution_count": 4,
     "metadata": {},
     "output_type": "execute_result"
    }
   ],
   "source": [
    "bitstring(mySum)"
   ]
  },
  {
   "cell_type": "code",
   "execution_count": 5,
   "metadata": {},
   "outputs": [
    {
     "data": {
      "text/plain": [
       "1.539157f6"
      ]
     },
     "execution_count": 5,
     "metadata": {},
     "output_type": "execute_result"
    }
   ],
   "source": [
    "myMult = simple_multiplication(my_range, my_variable)"
   ]
  },
  {
   "cell_type": "code",
   "execution_count": 6,
   "metadata": {},
   "outputs": [
    {
     "data": {
      "text/plain": [
       "\"01001001101110111110001010101000\""
      ]
     },
     "execution_count": 6,
     "metadata": {},
     "output_type": "execute_result"
    }
   ],
   "source": [
    "bitstring(myMult)"
   ]
  },
  {
   "cell_type": "code",
   "execution_count": 7,
   "metadata": {},
   "outputs": [
    {
     "data": {
      "text/plain": [
       "185323.12f0"
      ]
     },
     "execution_count": 7,
     "metadata": {},
     "output_type": "execute_result"
    }
   ],
   "source": [
    "myAbsError = absolute(mySum, myMult)"
   ]
  },
  {
   "cell_type": "code",
   "execution_count": 8,
   "metadata": {},
   "outputs": [
    {
     "data": {
      "text/plain": [
       "0.1204056f0"
      ]
     },
     "execution_count": 8,
     "metadata": {},
     "output_type": "execute_result"
    }
   ],
   "source": [
    "myRelError = relative(mySum, myMult)"
   ]
  },
  {
   "cell_type": "code",
   "execution_count": 9,
   "metadata": {},
   "outputs": [
    {
     "data": {
      "text/plain": [
       "10000-element Array{Float32,1}:\n",
       "      0.0002746582\n",
       "      0.004547119 \n",
       "      0.01953125  \n",
       "      0.034423828 \n",
       "      0.049438477 \n",
       "      0.06439209  \n",
       "      0.07922363  \n",
       "      0.09423828  \n",
       "      0.109375    \n",
       "      0.12426758  \n",
       "      0.13916016  \n",
       "      0.1541748   \n",
       "      0.16918945  \n",
       "      ⋮           \n",
       " 185005.12        \n",
       " 185034.0         \n",
       " 185063.0         \n",
       " 185091.75        \n",
       " 185120.75        \n",
       " 185149.62        \n",
       " 185178.62        \n",
       " 185207.5         \n",
       " 185236.38        \n",
       " 185265.38        \n",
       " 185294.25        \n",
       " 185323.12        "
      ]
     },
     "execution_count": 9,
     "metadata": {},
     "output_type": "execute_result"
    }
   ],
   "source": [
    "arrAbsErr = Float32[]\n",
    "arrRelErr = Float32[]\n",
    "arrLenght = Int64[]\n",
    "myStep = 1000\n",
    "sumSubArray(arrAbsErr, arrRelErr, arrLenght, array, myStep)\n",
    "arrAbsErr"
   ]
  },
  {
   "cell_type": "code",
   "execution_count": 10,
   "metadata": {},
   "outputs": [
    {
     "data": {
      "text/plain": [
       "10000-element Array{Float32,1}:\n",
       " 1.7844716e-6\n",
       " 1.4771459e-5\n",
       " 4.2298587e-5\n",
       " 5.5913442e-5\n",
       " 6.424098e-5 \n",
       " 6.972658e-5 \n",
       " 7.3531555e-5\n",
       " 7.6534e-5   \n",
       " 7.895737e-5 \n",
       " 8.073743e-5 \n",
       " 8.2193845e-5\n",
       " 8.347362e-5 \n",
       " 8.455651e-5 \n",
       " ⋮           \n",
       " 0.120331354 \n",
       " 0.12033809  \n",
       " 0.1203449   \n",
       " 0.12035156  \n",
       " 0.12035836  \n",
       " 0.1203651   \n",
       " 0.1203719   \n",
       " 0.12037863  \n",
       " 0.120385356 \n",
       " 0.12039215  \n",
       " 0.12039888  \n",
       " 0.1204056   "
      ]
     },
     "execution_count": 10,
     "metadata": {},
     "output_type": "execute_result"
    }
   ],
   "source": [
    "arrRelErr"
   ]
  },
  {
   "cell_type": "code",
   "execution_count": 11,
   "metadata": {},
   "outputs": [
    {
     "data": {
      "text/plain": [
       "10000-element Array{Int64,1}:\n",
       "     10000\n",
       "     20000\n",
       "     30000\n",
       "     40000\n",
       "     50000\n",
       "     60000\n",
       "     70000\n",
       "     80000\n",
       "     90000\n",
       "    100000\n",
       "    110000\n",
       "    120000\n",
       "    130000\n",
       "         ⋮\n",
       "  99890000\n",
       "  99900000\n",
       "  99910000\n",
       "  99920000\n",
       "  99930000\n",
       "  99940000\n",
       "  99950000\n",
       "  99960000\n",
       "  99970000\n",
       "  99980000\n",
       "  99990000\n",
       " 100000000"
      ]
     },
     "execution_count": 11,
     "metadata": {},
     "output_type": "execute_result"
    }
   ],
   "source": [
    "arrLenght"
   ]
  },
  {
   "cell_type": "code",
   "execution_count": 12,
   "metadata": {},
   "outputs": [
    {
     "data": {
      "image/png": "[encoded data removed]",
      "text/plain": [
       "Figure(PyObject <Figure size 640x480 with 1 Axes>)"
      ]
     },
     "metadata": {},
     "output_type": "display_data"
    },
    {
     "data": {
      "text/plain": [
       "1-element Array{PyCall.PyObject,1}:\n",
       " PyObject <matplotlib.lines.Line2D object at 0x000000002BBAC438>"
      ]
     },
     "execution_count": 12,
     "metadata": {},
     "output_type": "execute_result"
    }
   ],
   "source": [
    "using PyPlot\n",
    "PyPlot.plot(arrLenght, arrAbsErr)"
   ]
  },
  {
   "cell_type": "code",
   "execution_count": 13,
   "metadata": {},
   "outputs": [
    {
     "data": {
      "image/png": "[encoded data removed]",
      "text/plain": [
       "Figure(PyObject <Figure size 640x480 with 1 Axes>)"
      ]
     },
     "metadata": {},
     "output_type": "display_data"
    },
    {
     "data": {
      "text/plain": [
       "1-element Array{PyCall.PyObject,1}:\n",
       " PyObject <matplotlib.lines.Line2D object at 0x000000002BF60A20>"
      ]
     },
     "execution_count": 13,
     "metadata": {},
     "output_type": "execute_result"
    }
   ],
   "source": [
    "PyPlot.plot(arrLenght, arrRelErr)"
   ]
  },
  {
   "cell_type": "code",
   "execution_count": 14,
   "metadata": {},
   "outputs": [
    {
     "ename": "StackOverflowError",
     "evalue": "StackOverflowError:",
     "output_type": "error",
     "traceback": [
      "StackOverflowError:",
      ""
     ]
    }
   ],
   "source": [
    "mySumRecursive = Float32(0)\n",
    "stop=100\n",
    "i=0\n",
    "for j=1:(my_range/stop)\n",
    "    recursive_sum_elements(arrayCopy, mySumRecursive, stop, i)\n",
    "end"
   ]
  },
  {
   "cell_type": "code",
   "execution_count": 15,
   "metadata": {},
   "outputs": [
    {
     "data": {
      "text/plain": [
       "9941904-element Array{Float32,1}:\n",
       " 0.1539157\n",
       " 0.1539157\n",
       " 0.1539157\n",
       " 0.1539157\n",
       " 0.1539157\n",
       " 0.1539157\n",
       " 0.1539157\n",
       " 0.1539157\n",
       " 0.1539157\n",
       " 0.1539157\n",
       " 0.1539157\n",
       " 0.1539157\n",
       " 0.1539157\n",
       " ⋮        \n",
       " 0.1539157\n",
       " 0.1539157\n",
       " 0.1539157\n",
       " 0.1539157\n",
       " 0.1539157\n",
       " 0.1539157\n",
       " 0.1539157\n",
       " 0.1539157\n",
       " 0.1539157\n",
       " 0.1539157\n",
       " 0.1539157\n",
       " 0.1539157"
      ]
     },
     "execution_count": 15,
     "metadata": {},
     "output_type": "execute_result"
    }
   ],
   "source": [
    "arrayCopy"
   ]
  },
  {
   "cell_type": "code",
   "execution_count": 16,
   "metadata": {},
   "outputs": [
    {
     "data": {
      "text/plain": [
       "10000000-element Array{Float32,1}:\n",
       " 0.1539157\n",
       " 0.1539157\n",
       " 0.1539157\n",
       " 0.1539157\n",
       " 0.1539157\n",
       " 0.1539157\n",
       " 0.1539157\n",
       " 0.1539157\n",
       " 0.1539157\n",
       " 0.1539157\n",
       " 0.1539157\n",
       " 0.1539157\n",
       " 0.1539157\n",
       " ⋮        \n",
       " 0.1539157\n",
       " 0.1539157\n",
       " 0.1539157\n",
       " 0.1539157\n",
       " 0.1539157\n",
       " 0.1539157\n",
       " 0.1539157\n",
       " 0.1539157\n",
       " 0.1539157\n",
       " 0.1539157\n",
       " 0.1539157\n",
       " 0.1539157"
      ]
     },
     "execution_count": 16,
     "metadata": {},
     "output_type": "execute_result"
    }
   ],
   "source": [
    "array"
   ]
  },
  {
   "cell_type": "code",
   "execution_count": 17,
   "metadata": {},
   "outputs": [
    {
     "data": {
      "text/plain": [
       "0.0f0"
      ]
     },
     "execution_count": 17,
     "metadata": {},
     "output_type": "execute_result"
    }
   ],
   "source": [
    "mySumRecursive"
   ]
  }
 ],
 "metadata": {
  "kernelspec": {
   "display_name": "Julia 1.0.1",
   "language": "julia",
   "name": "julia-1.0"
  },
  "language_info": {
   "file_extension": ".jl",
   "mimetype": "application/julia",
   "name": "julia",
   "version": "1.0.1"
  }
 },
 "nbformat": 4,
 "nbformat_minor": 2
}
