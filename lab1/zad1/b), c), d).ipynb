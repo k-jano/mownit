{
 "cells": [
  {
   "cell_type": "code",
   "execution_count": 1,
   "metadata": {},
   "outputs": [
    {
     "data": {
      "text/plain": [
       "sumSubArray (generic function with 1 method)"
      ]
     },
     "execution_count": 1,
     "metadata": {},
     "output_type": "execute_result"
    }
   ],
   "source": [
    "using Printf\n",
    "\n",
    "function sum_elements(array)\n",
    "    return_tmp = 0\n",
    "    for i= 1:length(array)\n",
    "        return_tmp+=array[i]\n",
    "    end\n",
    "    return return_tmp\n",
    "end\n",
    "\n",
    "function recursive_sum_elements(myArray, acc, stop, i)\n",
    "    if i==stop\n",
    "        return acc\n",
    "    else\n",
    "        tmp=pop!(myArray)\n",
    "        acc+=tmp\n",
    "        i++\n",
    "        return recursive_sum_elements(myArray, acc, stop, i)\n",
    "    end\n",
    "end\n",
    "\n",
    "function recursive_sum_elements2(myArray, myStart, myEnd)\n",
    "    #if (myEnd - myStart) > 0\n",
    "    #    myStart= recursive_sum_elements2(myArray, myStart, Int64((myEnd-myStart)*0.5))\n",
    "    #    myEnd =  recursive_sum_elements2(myArray, Int64((myEnd-myStart)*0.5)+1, myEnd)\n",
    "    #    return myStart + myEnd\n",
    "    #else\n",
    "    #    return myArray[myEnd]\n",
    "    #end\n",
    "    if myStart >= myEnd\n",
    "        return myArray[myStart]\n",
    "    else\n",
    "        middle = Int64(floor(((myStart + myEnd)/2)))\n",
    "        return recursive_sum_elements2(myArray, myStart, middle) + recursive_sum_elements2(myArray, middle+1, myEnd)\n",
    "    end\n",
    "end\n",
    "    \n",
    "function simple_multiplication(a,b)\n",
    "    return a*b\n",
    "end\n",
    "\n",
    "function absolute(a,b)\n",
    "    return abs(a-b)\n",
    "end\n",
    "\n",
    "function relative(a,b)\n",
    "    return absolute(a,b)/ b\n",
    "end\n",
    "\n",
    "function sumSubArray(arrAbs, arrRel, arrLen, array, myStep)\n",
    "    mySum = 0\n",
    "    myValue = array[1]\n",
    "    range = Int64(length(array)/ myStep)\n",
    "    #@printf \"%d\" range\n",
    "    for i= 1:range\n",
    "        for j= 1:myStep\n",
    "            mySum += array[myStep*(i-1) + j]\n",
    "            #@printf \"Dodalem\"\n",
    "        end\n",
    "        realVal = myValue * i * myStep\n",
    "        tmpAbs = absolute(mySum, realVal)\n",
    "        push!(arrAbs, tmpAbs)\n",
    "        tmpRel = relative(mySum, realVal)\n",
    "        push!(arrRel, tmpRel)\n",
    "        push!(arrLen, Int64(range*i))\n",
    "    end\n",
    "end"
   ]
  },
  {
   "cell_type": "code",
   "execution_count": 2,
   "metadata": {
    "scrolled": true
   },
   "outputs": [
    {
     "data": {
      "text/plain": [
       "0.56941545f0"
      ]
     },
     "execution_count": 2,
     "metadata": {},
     "output_type": "execute_result"
    }
   ],
   "source": [
    "my_range = 10000000\n",
    "my_variable=Float32(pop!(rand(1)))\n",
    "array = Float32[]\n",
    "arrayCopy = Float32[]\n",
    "for i=1:my_range\n",
    "    push!(array, my_variable)\n",
    "    push!(arrayCopy, my_variable)\n",
    "end\n",
    "my_variable"
   ]
  },
  {
   "cell_type": "code",
   "execution_count": 3,
   "metadata": {},
   "outputs": [
    {
     "data": {
      "text/plain": [
       "5.3277955f6"
      ]
     },
     "execution_count": 3,
     "metadata": {},
     "output_type": "execute_result"
    }
   ],
   "source": [
    "mySum = sum_elements(array)"
   ]
  },
  {
   "cell_type": "code",
   "execution_count": 4,
   "metadata": {},
   "outputs": [
    {
     "data": {
      "text/plain": [
       "\"01001010101000101001011101100111\""
      ]
     },
     "execution_count": 4,
     "metadata": {},
     "output_type": "execute_result"
    }
   ],
   "source": [
    "bitstring(mySum)"
   ]
  },
  {
   "cell_type": "code",
   "execution_count": 5,
   "metadata": {},
   "outputs": [
    {
     "data": {
      "text/plain": [
       "5.6941545f6"
      ]
     },
     "execution_count": 5,
     "metadata": {},
     "output_type": "execute_result"
    }
   ],
   "source": [
    "myMult = simple_multiplication(my_range, my_variable)"
   ]
  },
  {
   "cell_type": "code",
   "execution_count": 6,
   "metadata": {},
   "outputs": [
    {
     "data": {
      "text/plain": [
       "\"01001010101011011100010110010101\""
      ]
     },
     "execution_count": 6,
     "metadata": {},
     "output_type": "execute_result"
    }
   ],
   "source": [
    "bitstring(myMult)"
   ]
  },
  {
   "cell_type": "code",
   "execution_count": 7,
   "metadata": {},
   "outputs": [
    {
     "data": {
      "text/plain": [
       "366359.0f0"
      ]
     },
     "execution_count": 7,
     "metadata": {},
     "output_type": "execute_result"
    }
   ],
   "source": [
    "myAbsError = absolute(mySum, myMult)"
   ]
  },
  {
   "cell_type": "code",
   "execution_count": 8,
   "metadata": {},
   "outputs": [
    {
     "data": {
      "text/plain": [
       "0.06433949f0"
      ]
     },
     "execution_count": 8,
     "metadata": {},
     "output_type": "execute_result"
    }
   ],
   "source": [
    "myRelError = relative(mySum, myMult)"
   ]
  },
  {
   "cell_type": "code",
   "execution_count": 9,
   "metadata": {},
   "outputs": [
    {
     "data": {
      "text/plain": [
       "10000-element Array{Float32,1}:\n",
       "      0.0025024414\n",
       "      0.0036621094\n",
       "      0.03894043  \n",
       "      0.032226562 \n",
       "      0.04736328  \n",
       "      0.12670898  \n",
       "      0.20605469  \n",
       "      0.28564453  \n",
       "      0.36523438  \n",
       "      0.44482422  \n",
       "      0.5239258   \n",
       "      0.6035156   \n",
       "      0.68310547  \n",
       "      ⋮           \n",
       " 365595.5         \n",
       " 365665.0         \n",
       " 365734.5         \n",
       " 365803.5         \n",
       " 365873.0         \n",
       " 365942.5         \n",
       " 366012.0         \n",
       " 366081.5         \n",
       " 366151.0         \n",
       " 366220.0         \n",
       " 366289.5         \n",
       " 366359.0         "
      ]
     },
     "execution_count": 9,
     "metadata": {},
     "output_type": "execute_result"
    }
   ],
   "source": [
    "arrAbsErr = Float32[]\n",
    "arrRelErr = Float32[]\n",
    "arrLenght = Int64[]\n",
    "myStep = 1000\n",
    "sumSubArray(arrAbsErr, arrRelErr, arrLenght, array, myStep)\n",
    "arrAbsErr"
   ]
  },
  {
   "cell_type": "code",
   "execution_count": 10,
   "metadata": {},
   "outputs": [
    {
     "data": {
      "text/plain": [
       "10000-element Array{Float32,1}:\n",
       " 4.394755e-6 \n",
       " 3.2156743e-6\n",
       " 2.2795559e-5\n",
       " 1.4148967e-5\n",
       " 1.6635755e-5\n",
       " 3.7087444e-5\n",
       " 5.1695795e-5\n",
       " 6.270565e-5 \n",
       " 7.126887e-5 \n",
       " 7.811945e-5 \n",
       " 8.364651e-5 \n",
       " 8.832386e-5 \n",
       " 9.228161e-5 \n",
       " ⋮           \n",
       " 0.06427611  \n",
       " 0.06428189  \n",
       " 0.06428767  \n",
       " 0.06429337  \n",
       " 0.06429915  \n",
       " 0.064304926 \n",
       " 0.06431071  \n",
       " 0.06431648  \n",
       " 0.064322256 \n",
       " 0.06432795  \n",
       " 0.06433372  \n",
       " 0.06433949  "
      ]
     },
     "execution_count": 10,
     "metadata": {},
     "output_type": "execute_result"
    }
   ],
   "source": [
    "arrRelErr"
   ]
  },
  {
   "cell_type": "code",
   "execution_count": 11,
   "metadata": {},
   "outputs": [
    {
     "data": {
      "text/plain": [
       "10000-element Array{Int64,1}:\n",
       "     10000\n",
       "     20000\n",
       "     30000\n",
       "     40000\n",
       "     50000\n",
       "     60000\n",
       "     70000\n",
       "     80000\n",
       "     90000\n",
       "    100000\n",
       "    110000\n",
       "    120000\n",
       "    130000\n",
       "         ⋮\n",
       "  99890000\n",
       "  99900000\n",
       "  99910000\n",
       "  99920000\n",
       "  99930000\n",
       "  99940000\n",
       "  99950000\n",
       "  99960000\n",
       "  99970000\n",
       "  99980000\n",
       "  99990000\n",
       " 100000000"
      ]
     },
     "execution_count": 11,
     "metadata": {},
     "output_type": "execute_result"
    }
   ],
   "source": [
    "arrLenght"
   ]
  },
  {
   "cell_type": "code",
   "execution_count": 12,
   "metadata": {},
   "outputs": [
    {
     "data": {
      "image/png": "[encoded data removed]",
      "text/plain": [
       "Figure(PyObject <Figure size 640x480 with 1 Axes>)"
      ]
     },
     "metadata": {},
     "output_type": "display_data"
    },
    {
     "data": {
      "text/plain": [
       "1-element Array{PyCall.PyObject,1}:\n",
       " PyObject <matplotlib.lines.Line2D object at 0x000000002D8EC438>"
      ]
     },
     "execution_count": 12,
     "metadata": {},
     "output_type": "execute_result"
    }
   ],
   "source": [
    "using PyPlot\n",
    "PyPlot.plot(arrLenght, arrAbsErr)"
   ]
  },
  {
   "cell_type": "code",
   "execution_count": 13,
   "metadata": {},
   "outputs": [
    {
     "data": {
      "image/png": "[encoded data removed]",
      "text/plain": [
       "Figure(PyObject <Figure size 640x480 with 1 Axes>)"
      ]
     },
     "metadata": {},
     "output_type": "display_data"
    },
    {
     "data": {
      "text/plain": [
       "1-element Array{PyCall.PyObject,1}:\n",
       " PyObject <matplotlib.lines.Line2D object at 0x000000002DA40A20>"
      ]
     },
     "execution_count": 13,
     "metadata": {},
     "output_type": "execute_result"
    }
   ],
   "source": [
    "PyPlot.plot(arrLenght, arrRelErr)"
   ]
  },
  {
   "cell_type": "code",
   "execution_count": 14,
   "metadata": {},
   "outputs": [
    {
     "data": {
      "text/plain": [
       "5.694154f6"
      ]
     },
     "execution_count": 14,
     "metadata": {},
     "output_type": "execute_result"
    }
   ],
   "source": [
    "#mySumRecursive = Float32(0)\n",
    "#stop=100\n",
    "#i=0\n",
    "#for j=1:(my_range/stop)\n",
    "#    recursive_sum_elements(arrayCopy, mySumRecursive, stop, i)\n",
    "#end\n",
    "\n",
    "recSum = recursive_sum_elements2(arrayCopy, 1, 10000000)"
   ]
  },
  {
   "cell_type": "code",
   "execution_count": 15,
   "metadata": {},
   "outputs": [
    {
     "data": {
      "text/plain": [
       "5.6941545f6"
      ]
     },
     "execution_count": 15,
     "metadata": {},
     "output_type": "execute_result"
    }
   ],
   "source": [
    "myMult"
   ]
  }
 ],
 "metadata": {
  "kernelspec": {
   "display_name": "Julia 1.0.1",
   "language": "julia",
   "name": "julia-1.0"
  },
  "language_info": {
   "file_extension": ".jl",
   "mimetype": "application/julia",
   "name": "julia",
   "version": "1.0.1"
  }
 },
 "nbformat": 4,
 "nbformat_minor": 2
}
