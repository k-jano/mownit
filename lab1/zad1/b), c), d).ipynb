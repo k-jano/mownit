{
 "cells": [
  {
   "cell_type": "code",
   "execution_count": 1,
   "metadata": {},
   "outputs": [
    {
     "data": {
      "text/plain": [
       "recSumSubArray (generic function with 1 method)"
      ]
     },
     "execution_count": 1,
     "metadata": {},
     "output_type": "execute_result"
    }
   ],
   "source": [
    "using Printf\n",
    "\n",
    "function sum_elements(array)\n",
    "    return_tmp = 0\n",
    "    for i= 1:length(array)\n",
    "        return_tmp+=array[i]\n",
    "    end\n",
    "    return return_tmp\n",
    "end\n",
    "\n",
    "function recursive_sum_elements(myArray, acc, stop, i)\n",
    "    if i==stop\n",
    "        return acc\n",
    "    else\n",
    "        tmp=pop!(myArray)\n",
    "        acc+=tmp\n",
    "        i++\n",
    "        return recursive_sum_elements(myArray, acc, stop, i)\n",
    "    end\n",
    "end\n",
    "\n",
    "function recursive_sum_elements2(myArray, myStart, myEnd)\n",
    "    if myStart >= myEnd\n",
    "        return myArray[myStart]\n",
    "    else\n",
    "        middle = Int64(floor(((myStart + myEnd)/2)))\n",
    "        return recursive_sum_elements2(myArray, myStart, middle) + recursive_sum_elements2(myArray, middle+1, myEnd)\n",
    "    end\n",
    "end\n",
    "    \n",
    "function simple_multiplication(a,b)\n",
    "    return a*b\n",
    "end\n",
    "\n",
    "function absolute(a,b)\n",
    "    return abs(a-b)\n",
    "end\n",
    "\n",
    "function relative(a,b)\n",
    "    return absolute(a,b)/ b\n",
    "end\n",
    "\n",
    "function sumSubArray(arrAbs, arrRel, arrLen, array, myStep)\n",
    "    mySum = 0\n",
    "    myValue = array[1]\n",
    "    range = Int64(length(array)/ myStep)\n",
    "    #@printf \"%d\" range\n",
    "    for i= 1:range\n",
    "        for j= 1:myStep\n",
    "            mySum += array[myStep*(i-1) + j]\n",
    "            #@printf \"Dodalem\"\n",
    "        end\n",
    "        realVal = myValue * i * myStep\n",
    "        tmpAbs = absolute(mySum, realVal)\n",
    "        push!(arrAbs, tmpAbs)\n",
    "        tmpRel = relative(mySum, realVal)\n",
    "        push!(arrRel, tmpRel)\n",
    "        push!(arrLen, Int64(range*i))\n",
    "    end\n",
    "end\n",
    "\n",
    "function recSumSubArray(arrAbs, arrRel, arrLen, array, myStep)\n",
    "    mySum = 0\n",
    "    myValue = array[1] \n",
    "    range = Int64(length(array)/ myStep)\n",
    "    for i=1:range\n",
    "        tmpSum=recursive_sum_elements2(array, (i-1)*myStep+1, i*myStep)\n",
    "        realVal = myValue * myStep\n",
    "        tmpAbs = absolute(tmpSum, realVal)\n",
    "        push!(arrAbs, tmpAbs)\n",
    "        tmpRel = relative(tmpSum,realVal)\n",
    "        push!(arrRel, tmpRel)\n",
    "        push!(arrLen, Int64(range*i))\n",
    "    end\n",
    "end"
   ]
  },
  {
   "cell_type": "code",
   "execution_count": 2,
   "metadata": {
    "scrolled": true
   },
   "outputs": [
    {
     "data": {
      "text/plain": [
       "0.7797661f0"
      ]
     },
     "execution_count": 2,
     "metadata": {},
     "output_type": "execute_result"
    }
   ],
   "source": [
    "my_range = 10000000\n",
    "my_variable=Float32(pop!(rand(1)))\n",
    "array = Float32[]\n",
    "arrayCopy = Float32[]\n",
    "for i=1:my_range\n",
    "    push!(array, my_variable)\n",
    "    push!(arrayCopy, my_variable)\n",
    "end\n",
    "my_variable"
   ]
  },
  {
   "cell_type": "code",
   "execution_count": 3,
   "metadata": {},
   "outputs": [
    {
     "data": {
      "text/plain": [
       "8.629762f6"
      ]
     },
     "execution_count": 3,
     "metadata": {},
     "output_type": "execute_result"
    }
   ],
   "source": [
    "mySum = sum_elements(array)"
   ]
  },
  {
   "cell_type": "code",
   "execution_count": 4,
   "metadata": {},
   "outputs": [
    {
     "data": {
      "text/plain": [
       "\"01001011000000111010111000000010\""
      ]
     },
     "execution_count": 4,
     "metadata": {},
     "output_type": "execute_result"
    }
   ],
   "source": [
    "bitstring(mySum)"
   ]
  },
  {
   "cell_type": "code",
   "execution_count": 5,
   "metadata": {},
   "outputs": [
    {
     "data": {
      "text/plain": [
       "7.797661f6"
      ]
     },
     "execution_count": 5,
     "metadata": {},
     "output_type": "execute_result"
    }
   ],
   "source": [
    "myMult = simple_multiplication(my_range, my_variable)"
   ]
  },
  {
   "cell_type": "code",
   "execution_count": 6,
   "metadata": {},
   "outputs": [
    {
     "data": {
      "text/plain": [
       "\"01001010111011011111011100111010\""
      ]
     },
     "execution_count": 6,
     "metadata": {},
     "output_type": "execute_result"
    }
   ],
   "source": [
    "bitstring(myMult)"
   ]
  },
  {
   "cell_type": "code",
   "execution_count": 7,
   "metadata": {},
   "outputs": [
    {
     "data": {
      "text/plain": [
       "832101.0f0"
      ]
     },
     "execution_count": 7,
     "metadata": {},
     "output_type": "execute_result"
    }
   ],
   "source": [
    "myAbsError = absolute(mySum, myMult)"
   ]
  },
  {
   "cell_type": "code",
   "execution_count": 8,
   "metadata": {},
   "outputs": [
    {
     "data": {
      "text/plain": [
       "0.10671162f0"
      ]
     },
     "execution_count": 8,
     "metadata": {},
     "output_type": "execute_result"
    }
   ],
   "source": [
    "myRelError = relative(mySum, myMult)"
   ]
  },
  {
   "cell_type": "code",
   "execution_count": 9,
   "metadata": {},
   "outputs": [
    {
     "data": {
      "text/plain": [
       "10000-element Array{Float32,1}:\n",
       "      0.0037231445\n",
       "      0.022705078 \n",
       "      0.041748047 \n",
       "      0.060791016 \n",
       "      0.080078125 \n",
       "      0.09863281  \n",
       "      0.11767578  \n",
       "      0.13671875  \n",
       "      0.15625     \n",
       "      0.17529297  \n",
       "      0.046875    \n",
       "      0.51660156  \n",
       "      0.98535156  \n",
       "      ⋮           \n",
       " 829678.5         \n",
       " 829898.5         \n",
       " 830119.0         \n",
       " 830339.0         \n",
       " 830559.5         \n",
       " 830779.5         \n",
       " 831000.0         \n",
       " 831220.0         \n",
       " 831440.5         \n",
       " 831661.0         \n",
       " 831881.0         \n",
       " 832101.5         "
      ]
     },
     "execution_count": 9,
     "metadata": {},
     "output_type": "execute_result"
    }
   ],
   "source": [
    "arrAbsErr = Float32[]\n",
    "arrRelErr = Float32[]\n",
    "arrLenght = Int64[]\n",
    "myStep = 1000\n",
    "sumSubArray(arrAbsErr, arrRelErr, arrLenght, array, myStep)\n",
    "arrAbsErr"
   ]
  },
  {
   "cell_type": "code",
   "execution_count": 10,
   "metadata": {},
   "outputs": [
    {
     "data": {
      "text/plain": [
       "10000-element Array{Float32,1}:\n",
       " 4.774694e-6 \n",
       " 1.4558903e-5\n",
       " 1.7846398e-5\n",
       " 1.9490144e-5\n",
       " 2.0539013e-5\n",
       " 2.1081709e-5\n",
       " 2.1558806e-5\n",
       " 2.1916629e-5\n",
       " 2.2264512e-5\n",
       " 2.24802e-5  \n",
       " 5.464926e-6 \n",
       " 5.5209028e-5\n",
       " 9.720386e-5 \n",
       " ⋮           \n",
       " 0.10651812  \n",
       " 0.106535695 \n",
       " 0.10655334  \n",
       " 0.10657091  \n",
       " 0.10658854  \n",
       " 0.1066061   \n",
       " 0.10662373  \n",
       " 0.106641285 \n",
       " 0.10665891  \n",
       " 0.10667653  \n",
       " 0.10669407  \n",
       " 0.106711686 "
      ]
     },
     "execution_count": 10,
     "metadata": {},
     "output_type": "execute_result"
    }
   ],
   "source": [
    "arrRelErr"
   ]
  },
  {
   "cell_type": "code",
   "execution_count": 11,
   "metadata": {},
   "outputs": [
    {
     "data": {
      "text/plain": [
       "10000-element Array{Int64,1}:\n",
       "     10000\n",
       "     20000\n",
       "     30000\n",
       "     40000\n",
       "     50000\n",
       "     60000\n",
       "     70000\n",
       "     80000\n",
       "     90000\n",
       "    100000\n",
       "    110000\n",
       "    120000\n",
       "    130000\n",
       "         ⋮\n",
       "  99890000\n",
       "  99900000\n",
       "  99910000\n",
       "  99920000\n",
       "  99930000\n",
       "  99940000\n",
       "  99950000\n",
       "  99960000\n",
       "  99970000\n",
       "  99980000\n",
       "  99990000\n",
       " 100000000"
      ]
     },
     "execution_count": 11,
     "metadata": {},
     "output_type": "execute_result"
    }
   ],
   "source": [
    "arrLenght"
   ]
  },
  {
   "cell_type": "code",
   "execution_count": 12,
   "metadata": {},
   "outputs": [
    {
     "data": {
      "image/png": "[encoded data removed]",
      "text/plain": [
       "Figure(PyObject <Figure size 640x480 with 1 Axes>)"
      ]
     },
     "metadata": {},
     "output_type": "display_data"
    },
    {
     "data": {
      "text/plain": [
       "1-element Array{PyCall.PyObject,1}:\n",
       " PyObject <matplotlib.lines.Line2D object at 0x00000000256DD358>"
      ]
     },
     "execution_count": 12,
     "metadata": {},
     "output_type": "execute_result"
    }
   ],
   "source": [
    "using PyPlot\n",
    "PyPlot.plot(arrLenght, arrAbsErr)"
   ]
  },
  {
   "cell_type": "code",
   "execution_count": 13,
   "metadata": {},
   "outputs": [
    {
     "data": {
      "image/png": "[encoded data removed]",
      "text/plain": [
       "Figure(PyObject <Figure size 640x480 with 1 Axes>)"
      ]
     },
     "metadata": {},
     "output_type": "display_data"
    },
    {
     "data": {
      "text/plain": [
       "1-element Array{PyCall.PyObject,1}:\n",
       " PyObject <matplotlib.lines.Line2D object at 0x000000002DAB6940>"
      ]
     },
     "execution_count": 13,
     "metadata": {},
     "output_type": "execute_result"
    }
   ],
   "source": [
    "PyPlot.plot(arrLenght, arrRelErr)"
   ]
  },
  {
   "cell_type": "code",
   "execution_count": 14,
   "metadata": {},
   "outputs": [
    {
     "data": {
      "text/plain": [
       "7.797661f6"
      ]
     },
     "execution_count": 14,
     "metadata": {},
     "output_type": "execute_result"
    }
   ],
   "source": [
    "recSum = recursive_sum_elements2(array, 1, 10000000)"
   ]
  },
  {
   "cell_type": "code",
   "execution_count": 15,
   "metadata": {},
   "outputs": [
    {
     "data": {
      "text/plain": [
       "7.797661f6"
      ]
     },
     "execution_count": 15,
     "metadata": {},
     "output_type": "execute_result"
    }
   ],
   "source": [
    "myMult"
   ]
  },
  {
   "cell_type": "code",
   "execution_count": 16,
   "metadata": {},
   "outputs": [
    {
     "data": {
      "text/plain": [
       "0.0f0"
      ]
     },
     "execution_count": 16,
     "metadata": {},
     "output_type": "execute_result"
    }
   ],
   "source": [
    "recAbsErr = absolute(recSum, myMult)"
   ]
  },
  {
   "cell_type": "code",
   "execution_count": 17,
   "metadata": {},
   "outputs": [
    {
     "data": {
      "text/plain": [
       "0.0f0"
      ]
     },
     "execution_count": 17,
     "metadata": {},
     "output_type": "execute_result"
    }
   ],
   "source": [
    "recRelErr = relative(recSum, myMult)"
   ]
  },
  {
   "cell_type": "code",
   "execution_count": 18,
   "metadata": {},
   "outputs": [
    {
     "data": {
      "text/plain": [
       "10000-element Array{Float32,1}:\n",
       " 0.0\n",
       " 0.0\n",
       " 0.0\n",
       " 0.0\n",
       " 0.0\n",
       " 0.0\n",
       " 0.0\n",
       " 0.0\n",
       " 0.0\n",
       " 0.0\n",
       " 0.0\n",
       " 0.0\n",
       " 0.0\n",
       " ⋮  \n",
       " 0.0\n",
       " 0.0\n",
       " 0.0\n",
       " 0.0\n",
       " 0.0\n",
       " 0.0\n",
       " 0.0\n",
       " 0.0\n",
       " 0.0\n",
       " 0.0\n",
       " 0.0\n",
       " 0.0"
      ]
     },
     "execution_count": 18,
     "metadata": {},
     "output_type": "execute_result"
    }
   ],
   "source": [
    "recArrAbsErr = Float32[]\n",
    "recArrRelErr = Float32[]\n",
    "recArrLenght = Int64[]\n",
    "recArrTmp = Float32[]\n",
    "myStep = 1000\n",
    "recSumSubArray(recArrAbsErr, recArrRelErr, recArrLenght, array, myStep)\n",
    "recArrAbsErr"
   ]
  },
  {
   "cell_type": "code",
   "execution_count": 19,
   "metadata": {},
   "outputs": [
    {
     "data": {
      "text/plain": [
       "10000-element Array{Float32,1}:\n",
       " 0.0\n",
       " 0.0\n",
       " 0.0\n",
       " 0.0\n",
       " 0.0\n",
       " 0.0\n",
       " 0.0\n",
       " 0.0\n",
       " 0.0\n",
       " 0.0\n",
       " 0.0\n",
       " 0.0\n",
       " 0.0\n",
       " ⋮  \n",
       " 0.0\n",
       " 0.0\n",
       " 0.0\n",
       " 0.0\n",
       " 0.0\n",
       " 0.0\n",
       " 0.0\n",
       " 0.0\n",
       " 0.0\n",
       " 0.0\n",
       " 0.0\n",
       " 0.0"
      ]
     },
     "execution_count": 19,
     "metadata": {},
     "output_type": "execute_result"
    }
   ],
   "source": [
    "recArrRelErr"
   ]
  },
  {
   "cell_type": "code",
   "execution_count": 20,
   "metadata": {},
   "outputs": [
    {
     "data": {
      "image/png": "[encoded data removed]",
      "text/plain": [
       "Figure(PyObject <Figure size 640x480 with 1 Axes>)"
      ]
     },
     "metadata": {},
     "output_type": "display_data"
    },
    {
     "data": {
      "text/plain": [
       "1-element Array{PyCall.PyObject,1}:\n",
       " PyObject <matplotlib.lines.Line2D object at 0x000000002FF1ACF8>"
      ]
     },
     "execution_count": 20,
     "metadata": {},
     "output_type": "execute_result"
    }
   ],
   "source": [
    "PyPlot.plot(recArrLenght, recArrAbsErr)"
   ]
  },
  {
   "cell_type": "code",
   "execution_count": 21,
   "metadata": {},
   "outputs": [
    {
     "data": {
      "image/png": "[encoded data removed]",
      "text/plain": [
       "Figure(PyObject <Figure size 640x480 with 1 Axes>)"
      ]
     },
     "metadata": {},
     "output_type": "display_data"
    },
    {
     "data": {
      "text/plain": [
       "1-element Array{PyCall.PyObject,1}:\n",
       " PyObject <matplotlib.lines.Line2D object at 0x000000002FF74780>"
      ]
     },
     "execution_count": 21,
     "metadata": {},
     "output_type": "execute_result"
    }
   ],
   "source": [
    "PyPlot.plot(recArrLenght, recArrRelErr)"
   ]
  }
 ],
 "metadata": {
  "kernelspec": {
   "display_name": "Julia 1.0.1",
   "language": "julia",
   "name": "julia-1.0"
  },
  "language_info": {
   "file_extension": ".jl",
   "mimetype": "application/julia",
   "name": "julia",
   "version": "1.0.1"
  }
 },
 "nbformat": 4,
 "nbformat_minor": 2
}
