{
 "cells": [
  {
   "cell_type": "code",
   "execution_count": 21,
   "metadata": {},
   "outputs": [
    {
     "data": {
      "text/plain": [
       "sumSubArray (generic function with 1 method)"
      ]
     },
     "execution_count": 21,
     "metadata": {},
     "output_type": "execute_result"
    }
   ],
   "source": [
    "using Printf\n",
    "\n",
    "function sum_elements(array)\n",
    "    return_tmp = 0\n",
    "    for i= 1:length(array)\n",
    "        return_tmp+=array[i]\n",
    "    end\n",
    "    return return_tmp\n",
    "end\n",
    "\n",
    "function recursive_sum_elements(myArray, acc, stop, i)\n",
    "    if i==stop\n",
    "        return acc\n",
    "    else\n",
    "        tmp=pop!(myArray)\n",
    "        acc+=tmp\n",
    "        i++\n",
    "        return recursive_sum_elements(myArray, acc, stop, i)\n",
    "    end\n",
    "end\n",
    "\n",
    "function recursive_sum_elements2(myArray, myStart, myEnd)\n",
    "    #if (myEnd - myStart) > 0\n",
    "    #    myStart= recursive_sum_elements2(myArray, myStart, Int64((myEnd-myStart)*0.5))\n",
    "    #    myEnd =  recursive_sum_elements2(myArray, Int64((myEnd-myStart)*0.5)+1, myEnd)\n",
    "    #    return myStart + myEnd\n",
    "    #else\n",
    "    #    return myArray[myEnd]\n",
    "    #end\n",
    "    if myStart >= myEnd\n",
    "        return myArray[myStart]\n",
    "    else\n",
    "        middle = Int64(floor(((myStart + myEnd)/2)))\n",
    "        return recursive_sum_elements2(myArray, myStart, middle) + recursive_sum_elements2(myArray, middle+1, myEnd)\n",
    "    end\n",
    "end\n",
    "    \n",
    "function simple_multiplication(a,b)\n",
    "    return a*b\n",
    "end\n",
    "\n",
    "function absolute(a,b)\n",
    "    return abs(a-b)\n",
    "end\n",
    "\n",
    "function relative(a,b)\n",
    "    return absolute(a,b)/ b\n",
    "end\n",
    "\n",
    "function sumSubArray(arrAbs, arrRel, arrLen, array, myStep)\n",
    "    mySum = 0\n",
    "    myValue = array[1]\n",
    "    range = Int64(length(array)/ myStep)\n",
    "    #@printf \"%d\" range\n",
    "    for i= 1:range\n",
    "        for j= 1:myStep\n",
    "            mySum += array[myStep*(i-1) + j]\n",
    "            #@printf \"Dodalem\"\n",
    "        end\n",
    "        realVal = myValue * i * myStep\n",
    "        tmpAbs = absolute(mySum, realVal)\n",
    "        push!(arrAbs, tmpAbs)\n",
    "        tmpRel = relative(mySum, realVal)\n",
    "        push!(arrRel, tmpRel)\n",
    "        push!(arrLen, Int64(range*i))\n",
    "    end\n",
    "end"
   ]
  },
  {
   "cell_type": "code",
   "execution_count": 2,
   "metadata": {
    "scrolled": true
   },
   "outputs": [
    {
     "data": {
      "text/plain": [
       "0.25367537f0"
      ]
     },
     "execution_count": 2,
     "metadata": {},
     "output_type": "execute_result"
    }
   ],
   "source": [
    "my_range = 10000000\n",
    "my_variable=Float32(pop!(rand(1)))\n",
    "array = Float32[]\n",
    "arrayCopy = Float32[]\n",
    "for i=1:my_range\n",
    "    push!(array, my_variable)\n",
    "    push!(arrayCopy, my_variable)\n",
    "end\n",
    "my_variable"
   ]
  },
  {
   "cell_type": "code",
   "execution_count": 3,
   "metadata": {},
   "outputs": [
    {
     "data": {
      "text/plain": [
       "2.5010045f6"
      ]
     },
     "execution_count": 3,
     "metadata": {},
     "output_type": "execute_result"
    }
   ],
   "source": [
    "mySum = sum_elements(array)"
   ]
  },
  {
   "cell_type": "code",
   "execution_count": 4,
   "metadata": {},
   "outputs": [
    {
     "data": {
      "text/plain": [
       "\"01001010000110001010011000110010\""
      ]
     },
     "execution_count": 4,
     "metadata": {},
     "output_type": "execute_result"
    }
   ],
   "source": [
    "bitstring(mySum)"
   ]
  },
  {
   "cell_type": "code",
   "execution_count": 5,
   "metadata": {},
   "outputs": [
    {
     "data": {
      "text/plain": [
       "2.5367538f6"
      ]
     },
     "execution_count": 5,
     "metadata": {},
     "output_type": "execute_result"
    }
   ],
   "source": [
    "myMult = simple_multiplication(my_range, my_variable)"
   ]
  },
  {
   "cell_type": "code",
   "execution_count": 6,
   "metadata": {},
   "outputs": [
    {
     "data": {
      "text/plain": [
       "\"01001010000110101101010011000111\""
      ]
     },
     "execution_count": 6,
     "metadata": {},
     "output_type": "execute_result"
    }
   ],
   "source": [
    "bitstring(myMult)"
   ]
  },
  {
   "cell_type": "code",
   "execution_count": 7,
   "metadata": {},
   "outputs": [
    {
     "data": {
      "text/plain": [
       "35749.25f0"
      ]
     },
     "execution_count": 7,
     "metadata": {},
     "output_type": "execute_result"
    }
   ],
   "source": [
    "myAbsError = absolute(mySum, myMult)"
   ]
  },
  {
   "cell_type": "code",
   "execution_count": 8,
   "metadata": {},
   "outputs": [
    {
     "data": {
      "text/plain": [
       "0.014092519f0"
      ]
     },
     "execution_count": 8,
     "metadata": {},
     "output_type": "execute_result"
    }
   ],
   "source": [
    "myRelError = relative(mySum, myMult)"
   ]
  },
  {
   "cell_type": "code",
   "execution_count": 9,
   "metadata": {},
   "outputs": [
    {
     "data": {
      "text/plain": [
       "10000-element Array{Float32,1}:\n",
       "     0.0012664795\n",
       "     0.01184082  \n",
       "     0.02508545  \n",
       "     0.038330078 \n",
       "     0.051513672 \n",
       "     0.064819336 \n",
       "     0.078125    \n",
       "     0.091308594 \n",
       "     0.10449219  \n",
       "     0.11767578  \n",
       "     0.13110352  \n",
       "     0.14428711  \n",
       "     0.1574707   \n",
       "     ⋮           \n",
       " 35709.0         \n",
       " 35712.5         \n",
       " 35716.25        \n",
       " 35719.75        \n",
       " 35723.5         \n",
       " 35727.25        \n",
       " 35730.75        \n",
       " 35734.5         \n",
       " 35738.25        \n",
       " 35741.75        \n",
       " 35745.5         \n",
       " 35749.25        "
      ]
     },
     "execution_count": 9,
     "metadata": {},
     "output_type": "execute_result"
    }
   ],
   "source": [
    "arrAbsErr = Float32[]\n",
    "arrRelErr = Float32[]\n",
    "arrLenght = Int64[]\n",
    "myStep = 1000\n",
    "sumSubArray(arrAbsErr, arrRelErr, arrLenght, array, myStep)\n",
    "arrAbsErr"
   ]
  },
  {
   "cell_type": "code",
   "execution_count": 10,
   "metadata": {},
   "outputs": [
    {
     "data": {
      "text/plain": [
       "10000-element Array{Float32,1}:\n",
       " 4.9925206e-6\n",
       " 2.3338529e-5\n",
       " 3.2962664e-5\n",
       " 3.7774735e-5\n",
       " 4.0613853e-5\n",
       " 4.2586802e-5\n",
       " 4.399605e-5 \n",
       " 4.4992838e-5\n",
       " 4.5768113e-5\n",
       " 4.6388337e-5\n",
       " 4.698328e-5 \n",
       " 4.739887e-5 \n",
       " 4.775052e-5 \n",
       " ⋮           \n",
       " 0.014092152 \n",
       " 0.014092124 \n",
       " 0.014092193 \n",
       " 0.014092164 \n",
       " 0.014092233 \n",
       " 0.014092301 \n",
       " 0.014092273 \n",
       " 0.014092341 \n",
       " 0.01409241  \n",
       " 0.014092382 \n",
       " 0.01409245  \n",
       " 0.014092519 "
      ]
     },
     "execution_count": 10,
     "metadata": {},
     "output_type": "execute_result"
    }
   ],
   "source": [
    "arrRelErr"
   ]
  },
  {
   "cell_type": "code",
   "execution_count": 11,
   "metadata": {},
   "outputs": [
    {
     "data": {
      "text/plain": [
       "10000-element Array{Int64,1}:\n",
       "     10000\n",
       "     20000\n",
       "     30000\n",
       "     40000\n",
       "     50000\n",
       "     60000\n",
       "     70000\n",
       "     80000\n",
       "     90000\n",
       "    100000\n",
       "    110000\n",
       "    120000\n",
       "    130000\n",
       "         ⋮\n",
       "  99890000\n",
       "  99900000\n",
       "  99910000\n",
       "  99920000\n",
       "  99930000\n",
       "  99940000\n",
       "  99950000\n",
       "  99960000\n",
       "  99970000\n",
       "  99980000\n",
       "  99990000\n",
       " 100000000"
      ]
     },
     "execution_count": 11,
     "metadata": {},
     "output_type": "execute_result"
    }
   ],
   "source": [
    "arrLenght"
   ]
  },
  {
   "cell_type": "code",
   "execution_count": 12,
   "metadata": {},
   "outputs": [
    {
     "data": {
      "image/png": "[encoded data removed]",
      "text/plain": [
       "Figure(PyObject <Figure size 640x480 with 1 Axes>)"
      ]
     },
     "metadata": {},
     "output_type": "display_data"
    },
    {
     "data": {
      "text/plain": [
       "1-element Array{PyCall.PyObject,1}:\n",
       " PyObject <matplotlib.lines.Line2D object at 0x000000002D6EC438>"
      ]
     },
     "execution_count": 12,
     "metadata": {},
     "output_type": "execute_result"
    }
   ],
   "source": [
    "using PyPlot\n",
    "PyPlot.plot(arrLenght, arrAbsErr)"
   ]
  },
  {
   "cell_type": "code",
   "execution_count": 13,
   "metadata": {},
   "outputs": [
    {
     "data": {
      "image/png": "[encoded data removed]",
      "text/plain": [
       "Figure(PyObject <Figure size 640x480 with 1 Axes>)"
      ]
     },
     "metadata": {},
     "output_type": "display_data"
    },
    {
     "data": {
      "text/plain": [
       "1-element Array{PyCall.PyObject,1}:\n",
       " PyObject <matplotlib.lines.Line2D object at 0x000000002DA60A20>"
      ]
     },
     "execution_count": 13,
     "metadata": {},
     "output_type": "execute_result"
    }
   ],
   "source": [
    "PyPlot.plot(arrLenght, arrRelErr)"
   ]
  },
  {
   "cell_type": "code",
   "execution_count": 14,
   "metadata": {},
   "outputs": [
    {
     "ename": "OverflowError",
     "evalue": "OverflowError: 4611686018427387904 + 4611686018437387903 overflowed for type Int64",
     "output_type": "error",
     "traceback": [
      "OverflowError: 4611686018427387904 + 4611686018437387903 overflowed for type Int64",
      "",
      "Stacktrace:",
      " [1] throw_overflowerr_binaryop(::Symbol, ::Int64, ::Int64) at .\\checked.jl:158",
      " [2] checked_add at .\\checked.jl:170 [inlined]",
      " [3] +(::Rational{Int64}, ::Rational{Int64}) at .\\rational.jl:249",
      " [4] + at .\\promotion.jl:313 [inlined]",
      " [5] recursive_sum_elements2(::Array{Float32,1}, ::Int64, ::Rational{Int64}) at .\\In[1]:31",
      " [6] recursive_sum_elements2(::Array{Float32,1}, ::Int64, ::Rational{Int64}) at .\\In[1]:35 (repeats 62 times)",
      " [7] top-level scope at In[14]:1"
     ]
    }
   ],
   "source": [
    "#mySumRecursive = Float32(0)\n",
    "#stop=100\n",
    "#i=0\n",
    "#for j=1:(my_range/stop)\n",
    "#    recursive_sum_elements(arrayCopy, mySumRecursive, stop, i)\n",
    "#end\n",
    "\n",
    "recSum = recursive_sum_elements2(arrayCopy, 1, 10000000)"
   ]
  },
  {
   "cell_type": "code",
   "execution_count": 15,
   "metadata": {},
   "outputs": [
    {
     "data": {
      "text/plain": [
       "10000000-element Array{Float32,1}:\n",
       " 0.25367537\n",
       " 0.25367537\n",
       " 0.25367537\n",
       " 0.25367537\n",
       " 0.25367537\n",
       " 0.25367537\n",
       " 0.25367537\n",
       " 0.25367537\n",
       " 0.25367537\n",
       " 0.25367537\n",
       " 0.25367537\n",
       " 0.25367537\n",
       " 0.25367537\n",
       " ⋮         \n",
       " 0.25367537\n",
       " 0.25367537\n",
       " 0.25367537\n",
       " 0.25367537\n",
       " 0.25367537\n",
       " 0.25367537\n",
       " 0.25367537\n",
       " 0.25367537\n",
       " 0.25367537\n",
       " 0.25367537\n",
       " 0.25367537\n",
       " 0.25367537"
      ]
     },
     "execution_count": 15,
     "metadata": {},
     "output_type": "execute_result"
    }
   ],
   "source": [
    "arrayCopy"
   ]
  },
  {
   "cell_type": "code",
   "execution_count": 16,
   "metadata": {},
   "outputs": [
    {
     "data": {
      "text/plain": [
       "10000000-element Array{Float32,1}:\n",
       " 0.25367537\n",
       " 0.25367537\n",
       " 0.25367537\n",
       " 0.25367537\n",
       " 0.25367537\n",
       " 0.25367537\n",
       " 0.25367537\n",
       " 0.25367537\n",
       " 0.25367537\n",
       " 0.25367537\n",
       " 0.25367537\n",
       " 0.25367537\n",
       " 0.25367537\n",
       " ⋮         \n",
       " 0.25367537\n",
       " 0.25367537\n",
       " 0.25367537\n",
       " 0.25367537\n",
       " 0.25367537\n",
       " 0.25367537\n",
       " 0.25367537\n",
       " 0.25367537\n",
       " 0.25367537\n",
       " 0.25367537\n",
       " 0.25367537\n",
       " 0.25367537"
      ]
     },
     "execution_count": 16,
     "metadata": {},
     "output_type": "execute_result"
    }
   ],
   "source": [
    "array"
   ]
  },
  {
   "cell_type": "code",
   "execution_count": 17,
   "metadata": {},
   "outputs": [
    {
     "ename": "UndefVarError",
     "evalue": "UndefVarError: mySumRecursive not defined",
     "output_type": "error",
     "traceback": [
      "UndefVarError: mySumRecursive not defined",
      "",
      "Stacktrace:",
      " [1] top-level scope at In[17]:1"
     ]
    }
   ],
   "source": [
    "mySumRecursive"
   ]
  },
  {
   "cell_type": "code",
   "execution_count": 22,
   "metadata": {},
   "outputs": [
    {
     "ename": "InexactError",
     "evalue": "InexactError: Int64(Int64, 1.5)",
     "output_type": "error",
     "traceback": [
      "InexactError: Int64(Int64, 1.5)",
      "",
      "Stacktrace:",
      " [1] Type at .\\float.jl:700 [inlined]",
      " [2] recursive_sum_elements2(::Array{Int64,1}, ::Int64, ::Int64) at .\\In[21]:33",
      " [3] recursive_sum_elements2(::Array{Int64,1}, ::Int64, ::Int64) at .\\In[21]:34 (repeats 2 times)",
      " [4] top-level scope at In[22]:2"
     ]
    }
   ],
   "source": [
    "arrayTmp2 = [1,2,3,4,5]\n",
    "tmp2 = recursive_sum_elements2(arrayTmp2, 1, 5)"
   ]
  },
  {
   "cell_type": "code",
   "execution_count": 25,
   "metadata": {},
   "outputs": [
    {
     "data": {
      "text/plain": [
       "2"
      ]
     },
     "execution_count": 25,
     "metadata": {},
     "output_type": "execute_result"
    }
   ],
   "source": [
    "Int64(floor(2.5))"
   ]
  }
 ],
 "metadata": {
  "kernelspec": {
   "display_name": "Julia 1.0.1",
   "language": "julia",
   "name": "julia-1.0"
  },
  "language_info": {
   "file_extension": ".jl",
   "mimetype": "application/julia",
   "name": "julia",
   "version": "1.0.1"
  }
 },
 "nbformat": 4,
 "nbformat_minor": 2
}
