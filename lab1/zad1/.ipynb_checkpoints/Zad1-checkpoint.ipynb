{
 "cells": [
  {
   "cell_type": "code",
   "execution_count": 1,
   "metadata": {},
   "outputs": [
    {
     "data": {
      "text/plain": [
       "sumSubArray (generic function with 1 method)"
      ]
     },
     "execution_count": 1,
     "metadata": {},
     "output_type": "execute_result"
    }
   ],
   "source": [
    "using Printf\n",
    "\n",
    "function sum_elements(array)\n",
    "    return_tmp = 0\n",
    "    for i= 1:length(array)\n",
    "        return_tmp+=array[i]\n",
    "    end\n",
    "    return return_tmp\n",
    "end\n",
    "\n",
    "function recursive_sum_elements(myArray, acc, stop, i)\n",
    "    if i==stop\n",
    "        return acc\n",
    "    else\n",
    "        tmp=pop!(myArray)\n",
    "        acc+=tmp\n",
    "        i++\n",
    "        return recursive_sum_elements(myArray, acc, stop, i)\n",
    "    end\n",
    "end\n",
    "    \n",
    "function simple_multiplication(a,b)\n",
    "    return a*b\n",
    "end\n",
    "\n",
    "function absolute(a,b)\n",
    "    return abs(a-b)\n",
    "end\n",
    "\n",
    "function relative(a,b)\n",
    "    return absolute(a,b)/ b\n",
    "end\n",
    "\n",
    "function sumSubArray(arrAbs, arrRel, arrLen, array, myStep)\n",
    "    mySum = 0\n",
    "    myValue = array[1]\n",
    "    range = Int64(length(array)/ myStep)\n",
    "    #@printf \"%d\" range\n",
    "    for i= 1:range\n",
    "        for j= 1:myStep\n",
    "            mySum += array[myStep*(i-1) + j]\n",
    "            #@printf \"Dodalem\"\n",
    "        end\n",
    "        realVal = myValue * i * myStep\n",
    "        tmpAbs = absolute(mySum, realVal)\n",
    "        push!(arrAbs, tmpAbs)\n",
    "        tmpRel = relative(mySum, realVal)\n",
    "        push!(arrRel, tmpRel)\n",
    "        push!(arrLen, Int64(range*i))\n",
    "    end\n",
    "end"
   ]
  },
  {
   "cell_type": "code",
   "execution_count": 2,
   "metadata": {
    "scrolled": true
   },
   "outputs": [
    {
     "data": {
      "text/plain": [
       "0.9053088f0"
      ]
     },
     "execution_count": 2,
     "metadata": {},
     "output_type": "execute_result"
    }
   ],
   "source": [
    "my_range = 10000000\n",
    "my_variable=Float32(pop!(rand(1)))\n",
    "array = Float32[]\n",
    "arrayCopy = Float32[]\n",
    "for i=1:my_range\n",
    "    push!(array, my_variable)\n",
    "    push!(arrayCopy, my_variable)\n",
    "end\n",
    "my_variable"
   ]
  },
  {
   "cell_type": "code",
   "execution_count": 3,
   "metadata": {},
   "outputs": [
    {
     "data": {
      "text/plain": [
       "9.721049f6"
      ]
     },
     "execution_count": 3,
     "metadata": {},
     "output_type": "execute_result"
    }
   ],
   "source": [
    "mySum = sum_elements(array)"
   ]
  },
  {
   "cell_type": "code",
   "execution_count": 4,
   "metadata": {},
   "outputs": [
    {
     "data": {
      "text/plain": [
       "\"01001011000101000101010011011001\""
      ]
     },
     "execution_count": 4,
     "metadata": {},
     "output_type": "execute_result"
    }
   ],
   "source": [
    "bitstring(mySum)"
   ]
  },
  {
   "cell_type": "code",
   "execution_count": 5,
   "metadata": {},
   "outputs": [
    {
     "data": {
      "text/plain": [
       "9.053088f6"
      ]
     },
     "execution_count": 5,
     "metadata": {},
     "output_type": "execute_result"
    }
   ],
   "source": [
    "myMult = simple_multiplication(my_range, my_variable)"
   ]
  },
  {
   "cell_type": "code",
   "execution_count": 6,
   "metadata": {},
   "outputs": [
    {
     "data": {
      "text/plain": [
       "\"01001011000010100010001110100000\""
      ]
     },
     "execution_count": 6,
     "metadata": {},
     "output_type": "execute_result"
    }
   ],
   "source": [
    "bitstring(myMult)"
   ]
  },
  {
   "cell_type": "code",
   "execution_count": 7,
   "metadata": {},
   "outputs": [
    {
     "data": {
      "text/plain": [
       "667961.0f0"
      ]
     },
     "execution_count": 7,
     "metadata": {},
     "output_type": "execute_result"
    }
   ],
   "source": [
    "myAbsError = absolute(mySum, myMult)"
   ]
  },
  {
   "cell_type": "code",
   "execution_count": 8,
   "metadata": {},
   "outputs": [
    {
     "data": {
      "text/plain": [
       "0.07378267f0"
      ]
     },
     "execution_count": 8,
     "metadata": {},
     "output_type": "execute_result"
    }
   ],
   "source": [
    "myRelError = relative(mySum, myMult)"
   ]
  },
  {
   "cell_type": "code",
   "execution_count": 9,
   "metadata": {},
   "outputs": [
    {
     "data": {
      "text/plain": [
       "10000-element Array{Float32,1}:\n",
       "      0.009338379\n",
       "      0.017944336\n",
       "      0.053466797\n",
       "      0.08862305 \n",
       "      0.12402344 \n",
       "      0.15966797 \n",
       "      0.19482422 \n",
       "      0.22998047 \n",
       "      0.265625   \n",
       "      0.30078125 \n",
       "      0.3359375  \n",
       "      0.3720703  \n",
       "      0.40722656 \n",
       "      ⋮          \n",
       " 666919.0        \n",
       " 667014.0        \n",
       " 667109.0        \n",
       " 667203.0        \n",
       " 667298.0        \n",
       " 667393.0        \n",
       " 667487.0        \n",
       " 667582.0        \n",
       " 667677.0        \n",
       " 667772.0        \n",
       " 667866.0        \n",
       " 667961.0        "
      ]
     },
     "execution_count": 9,
     "metadata": {},
     "output_type": "execute_result"
    }
   ],
   "source": [
    "arrAbsErr = Float32[]\n",
    "arrRelErr = Float32[]\n",
    "arrLenght = Int64[]\n",
    "myStep = 1000\n",
    "sumSubArray(arrAbsErr, arrRelErr, arrLenght, array, myStep)\n",
    "arrAbsErr"
   ]
  },
  {
   "cell_type": "code",
   "execution_count": 10,
   "metadata": {},
   "outputs": [
    {
     "data": {
      "text/plain": [
       "10000-element Array{Float32,1}:\n",
       " 1.03151315e-5\n",
       " 9.910616e-6  \n",
       " 1.9686393e-5 \n",
       " 2.4473155e-5 \n",
       " 2.7399146e-5 \n",
       " 2.939475e-5  \n",
       " 3.0743136e-5 \n",
       " 3.1754425e-5 \n",
       " 3.2600907e-5 \n",
       " 3.322416e-5  \n",
       " 3.3734097e-5 \n",
       " 3.424893e-5  \n",
       " 3.4601584e-5 \n",
       " ⋮            \n",
       " 0.07374869   \n",
       " 0.073751815  \n",
       " 0.07375494   \n",
       " 0.07375795   \n",
       " 0.07376107   \n",
       " 0.07376419   \n",
       " 0.07376719   \n",
       " 0.073770314  \n",
       " 0.07377343   \n",
       " 0.07377655   \n",
       " 0.07377955   \n",
       " 0.07378267   "
      ]
     },
     "execution_count": 10,
     "metadata": {},
     "output_type": "execute_result"
    }
   ],
   "source": [
    "arrRelErr"
   ]
  },
  {
   "cell_type": "code",
   "execution_count": 11,
   "metadata": {},
   "outputs": [
    {
     "data": {
      "text/plain": [
       "10000-element Array{Int64,1}:\n",
       "     10000\n",
       "     20000\n",
       "     30000\n",
       "     40000\n",
       "     50000\n",
       "     60000\n",
       "     70000\n",
       "     80000\n",
       "     90000\n",
       "    100000\n",
       "    110000\n",
       "    120000\n",
       "    130000\n",
       "         ⋮\n",
       "  99890000\n",
       "  99900000\n",
       "  99910000\n",
       "  99920000\n",
       "  99930000\n",
       "  99940000\n",
       "  99950000\n",
       "  99960000\n",
       "  99970000\n",
       "  99980000\n",
       "  99990000\n",
       " 100000000"
      ]
     },
     "execution_count": 11,
     "metadata": {},
     "output_type": "execute_result"
    }
   ],
   "source": [
    "arrLenght"
   ]
  },
  {
   "cell_type": "code",
   "execution_count": 12,
   "metadata": {},
   "outputs": [
    {
     "data": {
      "image/png": "[encoded data removed]",
      "text/plain": [
       "Figure(PyObject <Figure size 640x480 with 1 Axes>)"
      ]
     },
     "metadata": {},
     "output_type": "display_data"
    },
    {
     "data": {
      "text/plain": [
       "1-element Array{PyCall.PyObject,1}:\n",
       " PyObject <matplotlib.lines.Line2D object at 0x000000002DC1D320>"
      ]
     },
     "execution_count": 12,
     "metadata": {},
     "output_type": "execute_result"
    }
   ],
   "source": [
    "using PyPlot\n",
    "PyPlot.plot(arrLenght, arrAbsErr)"
   ]
  },
  {
   "cell_type": "code",
   "execution_count": 13,
   "metadata": {},
   "outputs": [
    {
     "data": {
      "image/png": "[encoded data removed]",
      "text/plain": [
       "Figure(PyObject <Figure size 640x480 with 1 Axes>)"
      ]
     },
     "metadata": {},
     "output_type": "display_data"
    },
    {
     "data": {
      "text/plain": [
       "1-element Array{PyCall.PyObject,1}:\n",
       " PyObject <matplotlib.lines.Line2D object at 0x0000000030290908>"
      ]
     },
     "execution_count": 13,
     "metadata": {},
     "output_type": "execute_result"
    }
   ],
   "source": [
    "PyPlot.plot(arrLenght, arrRelErr)"
   ]
  },
  {
   "cell_type": "code",
   "execution_count": 18,
   "metadata": {},
   "outputs": [
    {
     "ename": "StackOverflowError",
     "evalue": "StackOverflowError:",
     "output_type": "error",
     "traceback": [
      "StackOverflowError:",
      ""
     ]
    }
   ],
   "source": [
    "mySumRecursive = Float32(0)\n",
    "stop=100\n",
    "i=0\n",
    "for j=1:(my_range/stop)\n",
    "    recursive_sum_elements(arrayCopy, mySumRecursive, stop, i)\n",
    "end"
   ]
  },
  {
   "cell_type": "code",
   "execution_count": 19,
   "metadata": {},
   "outputs": [
    {
     "data": {
      "text/plain": [
       "9941904-element Array{Float32,1}:\n",
       " 0.9053088\n",
       " 0.9053088\n",
       " 0.9053088\n",
       " 0.9053088\n",
       " 0.9053088\n",
       " 0.9053088\n",
       " 0.9053088\n",
       " 0.9053088\n",
       " 0.9053088\n",
       " 0.9053088\n",
       " 0.9053088\n",
       " 0.9053088\n",
       " 0.9053088\n",
       " ⋮        \n",
       " 0.9053088\n",
       " 0.9053088\n",
       " 0.9053088\n",
       " 0.9053088\n",
       " 0.9053088\n",
       " 0.9053088\n",
       " 0.9053088\n",
       " 0.9053088\n",
       " 0.9053088\n",
       " 0.9053088\n",
       " 0.9053088\n",
       " 0.9053088"
      ]
     },
     "execution_count": 19,
     "metadata": {},
     "output_type": "execute_result"
    }
   ],
   "source": [
    "arrayCopy"
   ]
  },
  {
   "cell_type": "code",
   "execution_count": 16,
   "metadata": {},
   "outputs": [
    {
     "data": {
      "text/plain": [
       "10000000-element Array{Float32,1}:\n",
       " 0.9053088\n",
       " 0.9053088\n",
       " 0.9053088\n",
       " 0.9053088\n",
       " 0.9053088\n",
       " 0.9053088\n",
       " 0.9053088\n",
       " 0.9053088\n",
       " 0.9053088\n",
       " 0.9053088\n",
       " 0.9053088\n",
       " 0.9053088\n",
       " 0.9053088\n",
       " ⋮        \n",
       " 0.9053088\n",
       " 0.9053088\n",
       " 0.9053088\n",
       " 0.9053088\n",
       " 0.9053088\n",
       " 0.9053088\n",
       " 0.9053088\n",
       " 0.9053088\n",
       " 0.9053088\n",
       " 0.9053088\n",
       " 0.9053088\n",
       " 0.9053088"
      ]
     },
     "execution_count": 16,
     "metadata": {},
     "output_type": "execute_result"
    }
   ],
   "source": [
    "array"
   ]
  },
  {
   "cell_type": "code",
   "execution_count": 17,
   "metadata": {},
   "outputs": [
    {
     "data": {
      "text/plain": [
       "0.0f0"
      ]
     },
     "execution_count": 17,
     "metadata": {},
     "output_type": "execute_result"
    }
   ],
   "source": [
    "mySumRecursive"
   ]
  }
 ],
 "metadata": {
  "kernelspec": {
   "display_name": "Julia 1.0.1",
   "language": "julia",
   "name": "julia-1.0"
  },
  "language_info": {
   "file_extension": ".jl",
   "mimetype": "application/julia",
   "name": "julia",
   "version": "1.0.1"
  }
 },
 "nbformat": 4,
 "nbformat_minor": 2
}
